{
  "nbformat": 4,
  "nbformat_minor": 0,
  "metadata": {
    "colab": {
      "provenance": []
    },
    "kernelspec": {
      "name": "python3",
      "display_name": "Python 3"
    },
    "language_info": {
      "name": "python"
    }
  },
  "cells": [
    {
      "cell_type": "markdown",
      "source": [
        "# Exercício: Previsão do preço de ações com LSTM (Tensorflow/Keras)\n",
        "* **Descrição:** Carregar os preços de uma ação dos últimos x-anos (ex: 5). E tentar prever o próximo preço da ação\n",
        "* **Dataset:** Puxar o preço histórico da ação de determinada empresa quer, via CSV ou utilizando **yfinance**\n",
        "  * **Mais Informações:** https://pypi.org/project/yfinance/"
      ],
      "metadata": {
        "id": "Faebs66OYZ3h"
      }
    },
    {
      "cell_type": "markdown",
      "source": [
        "## Passo a passo\n",
        "\n",
        "1.   Descarregar dados dos últimos **X-anos** (ex: 5 anos) até hoje usando yfinance.\n",
        "2. Manter apenas a coluna Close; aplicar MinMaxScaler para [0,1].\n",
        "3. Criar sequências: 60 valores de fecho ➜ alvo = valor do dia seguinte.\n",
        "4. Dividir 80 % treino / 20 % teste, preservando ordem temporal.\n",
        "5. Modelo Keras: LSTM(50, return_sequences=True) + LSTM(50) + Dense(1).\n",
        "6. compile(optimizer='adam', loss='mse'); treinar 25 épocas, batch 32.\n",
        "7. Desfazer normalização; traçar real vs previsto; calcular RMSE.\n",
        "\n"
      ],
      "metadata": {
        "id": "FoH8E5--ZOf3"
      }
    },
    {
      "cell_type": "code",
      "source": [
        "#!pip install yfinance pandas scikit-learn tensorflow matplotlib --quiet\n",
        "\n",
        "import yfinance as yf, pandas as pd, numpy as np, matplotlib.pyplot as plt\n",
        "from sklearn.preprocessing import MinMaxScaler\n",
        "import tensorflow as tf"
      ],
      "metadata": {
        "id": "nDYhAUP2aFA7"
      },
      "execution_count": null,
      "outputs": []
    },
    {
      "cell_type": "code",
      "source": [
        "company = 'AAPL'\n",
        "# 1. download do dataset (ou carregamento via CSV)\n",
        "# Nesse caso usa a biblioteca yfinance que usa APIs públicas yahoo finance\n",
        "df = yf.download(company, start='2020-04-01')\n",
        "print('\\n')\n",
        "print(df.head())\n",
        "df = df['Close']\n",
        "sc = MinMaxScaler(feature_range=(0,1))\n",
        "scaled = sc.fit_transform(df)"
      ],
      "metadata": {
        "id": "zyMog3Ppahfs"
      },
      "execution_count": null,
      "outputs": []
    },
    {
      "cell_type": "code",
      "source": [
        "# 2–3. janelas de 60 dias\n",
        "seq_len = 60\n",
        "X, y = [], []\n",
        "for i in range(seq_len, len(scaled)):\n",
        "    X.append(scaled[i-seq_len:i, 0])\n",
        "    y.append(scaled[i, 0])\n",
        "X, y = np.array(X), np.array(y)\n",
        "X = X[..., None]             # (amostras, 60, 1)"
      ],
      "metadata": {
        "id": "OBkmei2Fa_QK"
      },
      "execution_count": null,
      "outputs": []
    },
    {
      "cell_type": "code",
      "source": [
        "# 4. Divisão do dataset treino / teste\n",
        "split = int(0.8*len(X))\n",
        "Xtr, Xte, ytr, yte = X[:split], X[split:], y[:split], y[split:]"
      ],
      "metadata": {
        "id": "vHT5GobAbeFV"
      },
      "execution_count": null,
      "outputs": []
    },
    {
      "cell_type": "code",
      "source": [
        "# 5. modelo LSTM empilhado\n",
        "model = tf.keras.Sequential([\n",
        "    tf.keras.layers.LSTM(50, return_sequences=True, input_shape=(seq_len,1)),\n",
        "    tf.keras.layers.LSTM(50),\n",
        "    tf.keras.layers.Dense(1)\n",
        "])\n",
        "model.compile('adam','mse')\n",
        "model.fit(Xtr, ytr, epochs=25, batch_size=32, validation_split=0.1, verbose=0)"
      ],
      "metadata": {
        "id": "J_ntogOFbqZd"
      },
      "execution_count": null,
      "outputs": []
    },
    {
      "cell_type": "code",
      "source": [
        "# 6–7. previsão\n",
        "pred_scaled = model.predict(Xte).flatten()\n",
        "pred = sc.inverse_transform(pred_scaled.reshape(-1,1)).flatten()\n",
        "real = sc.inverse_transform(yte.reshape(-1,1)).flatten()\n",
        "\n",
        "rmse = np.sqrt(((pred - real)**2).mean())\n",
        "print(f'RMSE = {rmse:.2f} USD')"
      ],
      "metadata": {
        "id": "ApXDreiFbsUO"
      },
      "execution_count": null,
      "outputs": []
    },
    {
      "cell_type": "code",
      "source": [
        "# Visualização\n",
        "plt.figure(figsize=(10,4))\n",
        "plt.plot(real, label='Real'); plt.plot(pred, label='Previsto')\n",
        "plt.title(f'Preço de Fecho {company} — Real vs Previsto'); plt.legend(); plt.tight_layout()\n",
        "plt.show()"
      ],
      "metadata": {
        "id": "Y-oxG2UfbwKS"
      },
      "execution_count": null,
      "outputs": []
    },
    {
      "cell_type": "code",
      "source": [
        "# Prever o preço para os próximos 5 dias\n",
        "predicted_prices = []\n",
        "current_sequence = scaled[-60:].reshape(1, 60, 1)\n",
        "\n",
        "for _ in range(5):\n",
        "  next_day_scaled = model.predict(current_sequence)\n",
        "  next_day_price = sc.inverse_transform(next_day_scaled)[0,0]\n",
        "  predicted_prices.append(next_day_price)\n",
        "\n",
        "  # Atualizar a sequência para os próximos dias com os valores gerados\n",
        "  current_sequence = np.concatenate((current_sequence[:,1:,:], next_day_scaled.reshape(1,1,1)), axis=1)\n",
        "\n",
        "print(\"\\nPreço real dos últimos 5 dias:\")\n",
        "for i in range(len(real[-5:])):\n",
        "    print(f\"{5 - i} dia(s) atrás: {real[-5:][i]:.2f}\")\n",
        "\n",
        "\n",
        "print(\"\\nPrevisão de preço para os próximos 5 dias:\")\n",
        "for i, price in enumerate(predicted_prices):\n",
        "    print(f\"Daqui a {i+1} dia(s): {price:.2f}\")\n"
      ],
      "metadata": {
        "id": "gCaMSJ1xfClC"
      },
      "execution_count": null,
      "outputs": []
    }
  ]
}