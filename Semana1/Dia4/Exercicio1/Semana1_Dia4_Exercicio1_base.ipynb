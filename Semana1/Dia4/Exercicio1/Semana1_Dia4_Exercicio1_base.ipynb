{
  "nbformat": 4,
  "nbformat_minor": 0,
  "metadata": {
    "colab": {
      "provenance": []
    },
    "kernelspec": {
      "name": "python3",
      "display_name": "Python 3"
    },
    "language_info": {
      "name": "python"
    }
  },
  "cells": [
    {
      "cell_type": "markdown",
      "source": [
        "# Exercício: Previsão do preço de ações com LSTM (Tensorflow/Keras)\n",
        "* **Descrição:** Carregar os preços de uma ação dos últimos x-anos (ex: 5). E tentar prever o próximo preço da ação\n",
        "* **Dataset:** Puxar o preço histórico da ação de determinada empresa quer, via CSV ou utilizando **yfinance**\n",
        "  * **Mais Informações:** https://pypi.org/project/yfinance/"
      ],
      "metadata": {
        "id": "Faebs66OYZ3h"
      }
    },
    {
      "cell_type": "markdown",
      "source": [
        "## Passo a passo\n",
        "\n",
        "1.   Descarregar dados dos últimos **X-anos** (ex: 5 anos) até hoje usando yfinance.\n",
        "2. Manter apenas a coluna Close; aplicar MinMaxScaler para [0,1].\n",
        "3. Criar sequências: 60 valores de fecho ➜ alvo = valor do dia seguinte.\n",
        "4. Dividir 80 % treino / 20 % teste, preservando ordem temporal.\n",
        "5. Modelo Keras: LSTM(50, return_sequences=True) + LSTM(50) + Dense(1).\n",
        "6. compile(optimizer='adam', loss='mse'); treinar 25 épocas, batch 32.\n",
        "7. Desfazer normalização; traçar real vs previsto; calcular RMSE.\n",
        "\n"
      ],
      "metadata": {
        "id": "FoH8E5--ZOf3"
      }
    },
    {
      "cell_type": "code",
      "source": [
        "#!pip install yfinance pandas scikit-learn tensorflow matplotlib --quiet\n",
        "\n",
        "import yfinance as yf, pandas as pd, numpy as np, matplotlib.pyplot as plt\n",
        "from sklearn.preprocessing import MinMaxScaler\n",
        "import tensorflow as tf"
      ],
      "metadata": {
        "id": "nDYhAUP2aFA7"
      },
      "execution_count": null,
      "outputs": []
    }
  ]
}