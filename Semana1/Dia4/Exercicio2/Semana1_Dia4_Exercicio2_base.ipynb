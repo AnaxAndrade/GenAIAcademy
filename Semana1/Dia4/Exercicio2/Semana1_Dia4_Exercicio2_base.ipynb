{
 "cells": [
  {
   "cell_type": "markdown",
   "metadata": {
    "id": "Faebs66OYZ3h"
   },
   "source": [
    "# Exercício: Sentimento em Tweets Portugueses com GRU (PyTorch)\n",
    "* **Descrição:** Classificar tweets PT em positivo/negativo usando GRU bidireccional.\n",
    "* **Dataset:** Portuguese Tweets for Sentiment Analysis (10 k tweets)\n",
    "  * **Mais Informações:** https://www.kaggle.com/datasets/augustop/portuguese-tweets-for-sentiment-analysis?utm_source=chatgpt.com"
   ]
  },
  {
   "cell_type": "markdown",
   "metadata": {
    "id": "FoH8E5--ZOf3"
   },
   "source": [
    "## Passo a passo\n",
    "\n",
    "1. Carregar tweet, sentiment; mapear posit→1, neg→0.\n",
    "2. Tokenizar com spaCy em Português, cortar a 50 tokens.\n",
    "3. Embedding(num_embeddings=20 000, dim=128) + Bidirectional GRU(128).\n",
    "4. Otimizador Adam, BCELoss; epochs = 10, batch = 64 (GPU).\n",
    "5. Medir accuracy & F1 no conjunto de teste; imprimir frases mal-classificadas.\n",
    "\n"
   ]
  },
  {
   "cell_type": "code",
   "execution_count": null,
   "metadata": {
    "id": "miGoUMBJm5o1"
   },
   "outputs": [],
   "source": [
    "# Opção de download do dataset\n",
    "\n",
    "# Treino (Train50.csv são 50 mil tweets)\n",
    "# Pode usar também Train100.csv, Train200.csv, Train300.csv, Train400.csv, Train500.csv)\n",
    "!wget https://genaiacademy.s3.eu-west-3.amazonaws.com/tweetspt/TrainingDatasets/Train50.csv\n",
    "\n",
    "# Teste\n",
    "!wget https://genaiacademy.s3.eu-west-3.amazonaws.com/tweetspt/TestDatasets/Test.csv\n"
   ]
  },
  {
   "cell_type": "code",
   "execution_count": null,
   "metadata": {
    "id": "nDYhAUP2aFA7"
   },
   "outputs": [],
   "source": [
    "#!pip install torch spacy==3.7.2 pt_core_news_sm\n",
    "import torch, torch.nn as nn\n",
    "import pandas as pd, spacy, random, numpy as np\n",
    "from sklearn.metrics import accuracy_score, f1_score, precision_score, recall_score\n",
    "from collections import Counter"
   ]
  },
  {
   "cell_type": "code",
   "execution_count": null,
   "metadata": {},
   "outputs": [],
   "source": [
    "!python -m spacy download pt_core_news_sm"
   ]
  }
 ],
 "metadata": {
  "colab": {
   "provenance": []
  },
  "kernelspec": {
   "display_name": "Python 3",
   "name": "python3"
  },
  "language_info": {
   "name": "python"
  }
 },
 "nbformat": 4,
 "nbformat_minor": 0
}
