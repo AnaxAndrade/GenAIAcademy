{
 "cells": [
  {
   "cell_type": "markdown",
   "id": "d96a7ac2",
   "metadata": {},
   "source": [
    "# Exercício 1 — Previsão de Temperatura com LSTM (Keras)\n",
    "* **Descrição:** Criar modelo capaz rever a temperatura das 24h seguintes a partir da série Jena Climate.\n",
    "* **Dataset:** Jena Climate (Kaggle) — csv 2009-2016, 14 variáveis meteorológicas\n",
    "  * **Mais Informações:** https://www.kaggle.com/datasets/mnassrib/jena-climate\n",
    "  * **CSV direto:** https://genaiacademy.s3.eu-west-3.amazonaws.com/datasets/jena-climate/jena_climate_2009_2016.csv\n"
   ]
  },
  {
   "cell_type": "markdown",
   "id": "af655c8f",
   "metadata": {},
   "source": [
    "## Passo a passo\n",
    "\n",
    "1. jena_climate_2009_2016.csv → carregar; ficar só com coluna T (degC).\n",
    "2. Normalizar min-max; criar janelas deslizantes de 72 steps (12 h).\n",
    "3. Dividir 70 % treino / 30 % teste, manter ordem temporal.\n",
    "4. Modelo: Sequential([LSTM(64), Dense(1)]) em Keras.\n",
    "5. compile(optimizer='adam', loss='mse'); treinar 20 épocas, batch 128.\n",
    "6. Prever e fazer o plot do gráfico real vs previsto; calcular RMSE & MAE."
   ]
  }
 ],
 "metadata": {
  "language_info": {
   "name": "python"
  }
 },
 "nbformat": 4,
 "nbformat_minor": 5
}
