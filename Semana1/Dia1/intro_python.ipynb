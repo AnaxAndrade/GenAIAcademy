{
 "cells": [
  {
   "cell_type": "markdown",
   "id": "e7f23dda",
   "metadata": {},
   "source": [
    "# Curso rápido de Python\n",
    "\n",
    "## Introdução\n",
    "Este notebook contém um tutorial básico de Python, cobrindo os conceitos fundamentais da linguagem."
   ]
  },
  {
   "cell_type": "markdown",
   "id": "893fbeb5",
   "metadata": {},
   "source": [
    "## 1. Output (Saída de dados)\n",
    "\n",
    "Em Python, podemos mostrar informações no ecrã utilizando a função `print()`."
   ]
  },
  {
   "cell_type": "code",
   "execution_count": null,
   "id": "b928e319",
   "metadata": {},
   "outputs": [],
   "source": [
    "# Exemplos de output com print()\n",
    "print(\"Olá, Mundo!\")\n",
    "print(\"Bem-vindo ao curso de Python.\")\n",
    "\n",
    "# Podemos imprimir variáveis\n",
    "nome = \"Maria\"\n",
    "print(nome)\n",
    "\n",
    "# Podemos concatenar textos\n",
    "print(\"Olá, \" + nome + \"!\")\n",
    "\n",
    "# Formatação de strings\n",
    "idade = 25\n",
    "print(f\"A {nome} tem {idade} anos.\")"
   ]
  },
  {
   "cell_type": "markdown",
   "id": "dc5f6cec",
   "metadata": {},
   "source": [
    "## 2. Input (Entrada de dados)\n",
    "\n",
    "Para obter dados do utilizador, utilizamos a função `input()`."
   ]
  },
  {
   "cell_type": "code",
   "execution_count": null,
   "id": "cf9f512f",
   "metadata": {},
   "outputs": [],
   "source": [
    "# Exemplo básico de input\n",
    "nome = input(\"Como te chamas? \")\n",
    "print(f\"Olá, {nome}!\")\n",
    "\n",
    "# Input numérico (é necessário converter o tipo)\n",
    "idade_texto = input(\"Qual é a tua idade? \")\n",
    "idade = int(idade_texto)  # Conversão para inteiro\n",
    "print(f\"No próximo ano terás {idade + 1} anos.\")\n",
    "\n",
    "# Forma mais direta\n",
    "altura = float(input(\"Qual é a tua altura (em metros)? \"))\n",
    "print(f\"A tua altura é {altura} metros.\")"
   ]
  },
  {
   "cell_type": "markdown",
   "id": "c98b42ee",
   "metadata": {},
   "source": [
    "## 3. Processamento, Aritmética e Lógica\n",
    "\n",
    "### Operações Aritméticas"
   ]
  },
  {
   "cell_type": "code",
   "execution_count": null,
   "id": "f7758cb2",
   "metadata": {},
   "outputs": [],
   "source": [
    "# Operações básicas\n",
    "a = 10\n",
    "b = 3\n",
    "\n",
    "soma = a + b\n",
    "subtracao = a - b\n",
    "multiplicacao = a * b\n",
    "divisao = a / b  # Divisão que resulta em float\n",
    "divisao_inteira = a // b  # Divisão inteira\n",
    "resto = a % b  # Resto da divisão\n",
    "potencia = a ** b  # a elevado a b\n",
    "\n",
    "print(f\"Soma: {soma}\")\n",
    "print(f\"Subtração: {subtracao}\")\n",
    "print(f\"Multiplicação: {multiplicacao}\")\n",
    "print(f\"Divisão: {divisao}\")\n",
    "print(f\"Divisão inteira: {divisao_inteira}\")\n",
    "print(f\"Resto: {resto}\")\n",
    "print(f\"Potência: {potencia}\")"
   ]
  },
  {
   "cell_type": "markdown",
   "id": "0da0e914",
   "metadata": {},
   "source": [
    "### Operadores Lógicos"
   ]
  },
  {
   "cell_type": "code",
   "execution_count": null,
   "id": "c3d5c165",
   "metadata": {},
   "outputs": [],
   "source": [
    "# Operadores de comparação\n",
    "x = 5\n",
    "y = 10\n",
    "\n",
    "print(f\"x == y: {x == y}\")  # Igual a\n",
    "print(f\"x != y: {x != y}\")  # Diferente de\n",
    "print(f\"x > y: {x > y}\")    # Maior que\n",
    "print(f\"x < y: {x < y}\")    # Menor que\n",
    "print(f\"x >= y: {x >= y}\")  # Maior ou igual a\n",
    "print(f\"x <= y: {x <= y}\")  # Menor ou igual a\n",
    "\n",
    "# Operadores lógicos\n",
    "p = True\n",
    "q = False\n",
    "\n",
    "print(f\"p and q: {p and q}\")  # E lógico\n",
    "print(f\"p or q: {p or q}\")    # OU lógico\n",
    "print(f\"not p: {not p}\")      # NÃO lógico"
   ]
  },
  {
   "cell_type": "markdown",
   "id": "75e0911c",
   "metadata": {},
   "source": [
    "## 4. Condicionais\n",
    "\n",
    "As estruturas condicionais permitem executar diferentes blocos de código com base em condições."
   ]
  },
  {
   "cell_type": "code",
   "execution_count": null,
   "id": "5e641fa4",
   "metadata": {},
   "outputs": [],
   "source": [
    "# Estrutura if-else simples\n",
    "idade = 18\n",
    "\n",
    "if idade >= 18:\n",
    "    print(\"És maior de idade.\")\n",
    "else:\n",
    "    print(\"És menor de idade.\")\n",
    "\n",
    "# Estrutura if-elif-else\n",
    "nota = 15\n",
    "\n",
    "if nota >= 18:\n",
    "    print(\"Excelente!\")\n",
    "elif nota >= 14:\n",
    "    print(\"Muito bom!\")\n",
    "elif nota >= 10:\n",
    "    print(\"Aprovado.\")\n",
    "else:\n",
    "    print(\"Reprovado.\")\n",
    "\n",
    "# Condições compostas\n",
    "hora = 14\n",
    "dia_semana = \"Domingo\"\n",
    "\n",
    "if hora < 12:\n",
    "    print(\"Bom dia!\")\n",
    "elif hora < 20:\n",
    "    print(\"Boa tarde!\")\n",
    "else:\n",
    "    print(\"Boa noite!\")\n",
    "    \n",
    "if dia_semana == \"Sábado\" or dia_semana == \"Domingo\":\n",
    "    print(\"Bom fim de semana!\")"
   ]
  },
  {
   "cell_type": "markdown",
   "id": "e1d36a18",
   "metadata": {},
   "source": [
    "## 5. Loops (Ciclos)\n",
    "\n",
    "Os ciclos permitem executar um bloco de código várias vezes.\n",
    "\n",
    "### Ciclo For"
   ]
  },
  {
   "cell_type": "code",
   "execution_count": null,
   "id": "28706eb3",
   "metadata": {},
   "outputs": [],
   "source": [
    "# Ciclo com range\n",
    "print(\"Contagem:\")\n",
    "for i in range(5):  # Vai de 0 a 4\n",
    "    print(i)\n",
    "\n",
    "print(\"\\nContagem personalizada:\")\n",
    "for i in range(2, 10, 2):  # De 2 a 9, de 2 em 2\n",
    "    print(i)\n",
    "\n",
    "# Iteração em listas\n",
    "print(\"\\nFrutas:\")\n",
    "frutas = [\"maçã\", \"banana\", \"laranja\", \"uva\"]\n",
    "for fruta in frutas:\n",
    "    print(fruta)\n",
    "\n",
    "# Iteração com índice\n",
    "print(\"\\nFrutas com índice:\")\n",
    "for i, fruta in enumerate(frutas):\n",
    "    print(f\"{i}: {fruta}\")"
   ]
  },
  {
   "cell_type": "markdown",
   "id": "0799afec",
   "metadata": {},
   "source": [
    "### Ciclo While"
   ]
  },
  {
   "cell_type": "code",
   "execution_count": null,
   "id": "ca8055a2",
   "metadata": {},
   "outputs": [],
   "source": [
    "# Ciclo while simples\n",
    "contador = 0\n",
    "print(\"While simples:\")\n",
    "while contador < 5:\n",
    "    print(contador)\n",
    "    contador += 1\n",
    "\n",
    "# Ciclo com break\n",
    "print(\"\\nCiclo com break:\")\n",
    "i = 0\n",
    "while True:\n",
    "    print(i)\n",
    "    i += 1\n",
    "    if i >= 5:\n",
    "        break\n",
    "\n",
    "# Ciclo com continue\n",
    "print(\"\\nNúmeros ímpares até 10:\")\n",
    "i = 0\n",
    "while i <= 10:\n",
    "    i += 1\n",
    "    if i % 2 == 0:  # Se for par\n",
    "        continue    # Passa para a próxima iteração\n",
    "    print(i)"
   ]
  },
  {
   "cell_type": "markdown",
   "id": "41ed1c31",
   "metadata": {},
   "source": [
    "## 6. Funções\n",
    "\n",
    "As funções permitem organizar e reutilizar código."
   ]
  },
  {
   "cell_type": "code",
   "execution_count": null,
   "id": "9d9313ac",
   "metadata": {},
   "outputs": [],
   "source": [
    "# Função simples sem parâmetros\n",
    "def saudacao():\n",
    "    print(\"Olá, como estás?\")\n",
    "\n",
    "saudacao()\n",
    "\n",
    "# Função com parâmetros\n",
    "def saudar_pessoa(nome):\n",
    "    print(f\"Olá, {nome}!\")\n",
    "\n",
    "saudar_pessoa(\"João\")\n",
    "\n",
    "# Função com valor padrão\n",
    "def saudar_com_opcao(nome, mensagem=\"Bem-vindo!\"):\n",
    "    print(f\"Olá, {nome}. {mensagem}\")\n",
    "\n",
    "saudar_com_opcao(\"Ana\")\n",
    "saudar_com_opcao(\"Pedro\", \"Como vai o dia?\")\n",
    "\n",
    "# Função com retorno\n",
    "def somar(a, b):\n",
    "    return a + b\n",
    "\n",
    "resultado = somar(5, 3)\n",
    "print(f\"Resultado da soma: {resultado}\")\n",
    "\n",
    "# Função com múltiplos retornos\n",
    "def calcular_estatisticas(numeros):\n",
    "    soma = sum(numeros)\n",
    "    media = soma / len(numeros)\n",
    "    maximo = max(numeros)\n",
    "    minimo = min(numeros)\n",
    "    return soma, media, maximo, minimo\n",
    "\n",
    "estatisticas = calcular_estatisticas([10, 20, 30, 40, 50])\n",
    "print(f\"Estatísticas: {estatisticas}\")\n",
    "print(f\"Média: {estatisticas[1]}\")"
   ]
  },
  {
   "cell_type": "markdown",
   "id": "ecd8a7b8",
   "metadata": {},
   "source": [
    "## 7. Classes\n",
    "\n",
    "A programação orientada a objetos em Python utiliza classes."
   ]
  },
  {
   "cell_type": "code",
   "execution_count": null,
   "id": "d786ff6e",
   "metadata": {},
   "outputs": [],
   "source": [
    "# Definição de uma classe simples\n",
    "class Pessoa:\n",
    "    def __init__(self, nome, idade):\n",
    "        self.nome = nome\n",
    "        self.idade = idade\n",
    "    \n",
    "    def apresentar(self):\n",
    "        return f\"Olá, o meu nome é {self.nome} e tenho {self.idade} anos.\"\n",
    "    \n",
    "    def aniversario(self):\n",
    "        self.idade += 1\n",
    "        return f\"Parabéns! Agora tenho {self.idade} anos!\"\n",
    "\n",
    "# Criar instâncias (objetos)\n",
    "pessoa1 = Pessoa(\"João\", 30)\n",
    "pessoa2 = Pessoa(\"Maria\", 25)\n",
    "\n",
    "# Usar métodos\n",
    "print(pessoa1.apresentar())\n",
    "print(pessoa2.apresentar())\n",
    "print(pessoa1.aniversario())\n",
    "\n",
    "# Herança\n",
    "class Estudante(Pessoa):\n",
    "    def __init__(self, nome, idade, curso):\n",
    "        super().__init__(nome, idade)\n",
    "        self.curso = curso\n",
    "    \n",
    "    def apresentar(self):\n",
    "        return f\"{super().apresentar()} Estou a estudar {self.curso}.\"\n",
    "\n",
    "estudante = Estudante(\"Carlos\", 20, \"Engenharia Informática\")\n",
    "print(estudante.apresentar())"
   ]
  },
  {
   "cell_type": "markdown",
   "id": "3761e5c1",
   "metadata": {},
   "source": [
    "## 8. Estruturas de Dados\n",
    "\n",
    "### Listas"
   ]
  },
  {
   "cell_type": "code",
   "execution_count": null,
   "id": "31a538a1",
   "metadata": {},
   "outputs": [],
   "source": [
    "# Criar listas\n",
    "numeros = [1, 2, 3, 4, 5]\n",
    "frutas = [\"maçã\", \"banana\", \"laranja\"]\n",
    "\n",
    "# Aceder a elementos\n",
    "print(f\"Primeiro número: {numeros[0]}\")\n",
    "print(f\"Última fruta: {frutas[-1]}\")\n",
    "\n",
    "# Fatiar listas\n",
    "print(f\"Primeiros 3 números: {numeros[:3]}\")\n",
    "print(f\"Últimas 2 frutas: {frutas[-2:]}\")\n",
    "\n",
    "# Métodos de listas\n",
    "numeros.append(6)          # Adiciona um elemento\n",
    "print(f\"Após append: {numeros}\")\n",
    "\n",
    "frutas.insert(1, \"pêra\")   # Insere um elemento numa posição\n",
    "print(f\"Após insert: {frutas}\")\n",
    "\n",
    "frutas.remove(\"banana\")    # Remove um elemento por valor\n",
    "print(f\"Após remove: {frutas}\")\n",
    "\n",
    "ultimo = numeros.pop()     # Remove e retorna o último elemento\n",
    "print(f\"Elemento removido: {ultimo}\")\n",
    "print(f\"Após pop: {numeros}\")\n",
    "\n",
    "# List Comprehension\n",
    "quadrados = [x**2 for x in range(1, 6)]\n",
    "print(f\"Quadrados: {quadrados}\")"
   ]
  },
  {
   "cell_type": "markdown",
   "id": "1dba5047",
   "metadata": {},
   "source": [
    "### Dicionários"
   ]
  },
  {
   "cell_type": "code",
   "execution_count": null,
   "id": "688167c2",
   "metadata": {},
   "outputs": [],
   "source": [
    "# Criar dicionários\n",
    "pessoa = {\n",
    "    \"nome\": \"António\",\n",
    "    \"idade\": 30,\n",
    "    \"cidade\": \"Lisboa\"\n",
    "}\n",
    "\n",
    "# Aceder a valores\n",
    "print(f\"Nome: {pessoa['nome']}\")\n",
    "\n",
    "# Adicionar ou modificar elementos\n",
    "pessoa[\"profissao\"] = \"Engenheiro\"\n",
    "pessoa[\"idade\"] = 31\n",
    "print(f\"Dicionário atualizado: {pessoa}\")\n",
    "\n",
    "# Verificar se uma chave existe\n",
    "if \"cidade\" in pessoa:\n",
    "    print(f\"Cidade: {pessoa['cidade']}\")\n",
    "\n",
    "# Métodos de dicionários\n",
    "chaves = pessoa.keys()\n",
    "valores = pessoa.values()\n",
    "itens = pessoa.items()\n",
    "\n",
    "print(f\"Chaves: {list(chaves)}\")\n",
    "print(f\"Valores: {list(valores)}\")\n",
    "\n",
    "# Iterar sobre um dicionário\n",
    "print(\"\\nInformações da pessoa:\")\n",
    "for chave, valor in pessoa.items():\n",
    "    print(f\"{chave}: {valor}\")"
   ]
  },
  {
   "cell_type": "markdown",
   "id": "226cc3d1",
   "metadata": {},
   "source": [
    "## 9. Gestão de Erros\n",
    "\n",
    "O Python permite lidar com exceções usando blocos try-except."
   ]
  },
  {
   "cell_type": "code",
   "execution_count": null,
   "id": "e736275c",
   "metadata": {},
   "outputs": [],
   "source": [
    "# Exemplo básico de try-except\n",
    "try:\n",
    "    numero = int(input(\"Insere um número: \"))\n",
    "    resultado = 10 / numero\n",
    "    print(f\"10 dividido por {numero} é {resultado}\")\n",
    "except ValueError:\n",
    "    print(\"Erro! Deves inserir um número válido.\")\n",
    "except ZeroDivisionError:\n",
    "    print(\"Erro! Não é possível dividir por zero.\")\n",
    "except Exception as e:\n",
    "    print(f\"Ocorreu um erro: {e}\")\n",
    "else:\n",
    "    print(\"Operação concluída com sucesso!\")\n",
    "finally:\n",
    "    print(\"Este bloco é sempre executado, independentemente de ocorrer um erro ou não.\")"
   ]
  },
  {
   "cell_type": "markdown",
   "id": "abaf916a",
   "metadata": {},
   "source": [
    "## 10. Módulos e Pacotes\n",
    "\n",
    "Python tem uma vasta biblioteca padrão e permite usar módulos externos."
   ]
  },
  {
   "cell_type": "code",
   "execution_count": null,
   "id": "9da262c6",
   "metadata": {},
   "outputs": [],
   "source": [
    "# Módulos da biblioteca padrão\n",
    "import math\n",
    "import random\n",
    "import datetime\n",
    "\n",
    "# Usar funções dos módulos\n",
    "print(f\"Pi: {math.pi}\")\n",
    "print(f\"Raiz quadrada de 16: {math.sqrt(16)}\")\n",
    "print(f\"Número aleatório entre 1 e 10: {random.randint(1, 10)}\")\n",
    "print(f\"Data e hora atuais: {datetime.datetime.now()}\")\n",
    "\n",
    "# Importar funções específicas\n",
    "from math import cos, sin\n",
    "print(f\"Coseno de 0: {cos(0)}\")\n",
    "print(f\"Seno de 90 graus: {sin(math.pi/2)}\")\n",
    "\n",
    "# Alias para módulos\n",
    "import datetime as dt\n",
    "print(f\"Hoje é: {dt.date.today()}\")"
   ]
  }
 ],
 "metadata": {
  "kernelspec": {
   "display_name": "Python 3",
   "language": "python",
   "name": "python3"
  },
  "language_info": {
   "name": "python",
   "version": "3.12.8"
  }
 },
 "nbformat": 4,
 "nbformat_minor": 5
}
