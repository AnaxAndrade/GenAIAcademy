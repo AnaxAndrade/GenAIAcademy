{
  "cells": [
    {
      "cell_type": "markdown",
      "metadata": {
        "id": "7xMT-MP5WFxx"
      },
      "source": [
        "# Naive Bayes para Análise de Sentimento (Exemplo Simples)\n",
        "\n",
        "## Como funciona o Naive Bayes (explicação simples) 📘\n",
        "\n",
        "O Naive Bayes é como um sistema de votação probabilístico baseado na frequência das palavras em diferentes categorias.\n",
        "\n",
        "👨‍🏫 Intuição:\n",
        "1. Treinamos o modelo com frases rotuladas como \"positivo\" ou \"negativo\".\n",
        "2. Contamos quantas vezes cada palavra aparece em cada categoria.\n",
        "3. Para uma nova frase, vemos quais palavras aparecem nela e usamos essas contagens para calcular a probabilidade da frase ser de cada categoria.\n",
        "4. A categoria com maior probabilidade ganha.\n",
        "\n",
        "👉 Fórmula base:\n",
        "P(Classe | Palavras) ∝ P(Palavras | Classe) × P(Classe)\n",
        "\n",
        "Usamos Laplace Smoothing para evitar multiplicar por zero (caso uma palavra nunca tenha aparecido antes).\n",
        "\n",
        "Na prática:\n",
        "- Se uma palavra aparece mais em textos positivos, contribui para uma classificação positiva.\n",
        "- Se aparece mais em negativos, empurra a classificação para negativa."
      ]
    },
    {
      "cell_type": "code",
      "source": [
        "# Imports iniciais\n",
        "import re\n",
        "from collections import defaultdict\n",
        "import math\n"
      ],
      "metadata": {
        "id": "MpsL-JscafYO"
      },
      "execution_count": 2,
      "outputs": []
    },
    {
      "cell_type": "code",
      "execution_count": 4,
      "metadata": {
        "colab": {
          "base_uri": "https://localhost:8080/"
        },
        "id": "7g1GdzVSWFxz",
        "outputId": "c1c53ccb-2c48-4305-b18e-810c9a787006"
      },
      "outputs": [
        {
          "output_type": "stream",
          "name": "stdout",
          "text": [
            "Vocabulário: ['adoro', 'artigo', 'bem', 'deixame', 'deixoume', 'e', 'este', 'feliz', 'funciona', 'irritado', 'muito', 'odeio', 'partiuse', 'produto', 'rápido']\n"
          ]
        }
      ],
      "source": [
        "# Passo 1: Definir os dados de treino\n",
        "textos = [\n",
        "    \"Adoro este produto! Funciona muito bem e deixa-me feliz.\",   # Positivo\n",
        "    \"Odeio este artigo. Partiu-se rápido e deixou-me irritado.\"  # Negativo\n",
        "]\n",
        "\n",
        "labels = [\"positivo\", \"negativo\"]\n",
        "\n",
        "# Passo 2: Pré-processamento (muito simples)\n",
        "def limpar_texto(texto):\n",
        "    texto = texto.lower()\n",
        "    texto = re.sub(r\"[^a-zà-úãéêáç0-9 ]\", \"\", texto)\n",
        "    return texto.split()\n",
        "\n",
        "textos_limpos = [limpar_texto(t) for t in textos]\n",
        "\n",
        "# Passo 3: Criar o vocabulário total\n",
        "vocabulario = sorted(set(palavra for texto in textos_limpos for palavra in texto))\n",
        "print(\"Vocabulário:\", vocabulario)"
      ]
    },
    {
      "cell_type": "code",
      "execution_count": 6,
      "metadata": {
        "colab": {
          "base_uri": "https://localhost:8080/"
        },
        "id": "5vlZngnrWFx0",
        "outputId": "9d4f5ea8-1eaf-4463-d93b-7a91700e1c0e"
      },
      "outputs": [
        {
          "output_type": "stream",
          "name": "stdout",
          "text": [
            "\n",
            "Contagens por classe:\n",
            "positivo =>  {'adoro': 1, 'este': 1, 'produto': 1, 'funciona': 1, 'muito': 1, 'bem': 1, 'e': 1, 'deixame': 1, 'feliz': 1}\n",
            "negativo =>  {'odeio': 1, 'este': 1, 'artigo': 1, 'partiuse': 1, 'rápido': 1, 'e': 1, 'deixoume': 1, 'irritado': 1}\n"
          ]
        }
      ],
      "source": [
        "# Passo 4: Contar as palavras por classe\n",
        "contagens = {\n",
        "    \"positivo\": defaultdict(int),\n",
        "    \"negativo\": defaultdict(int)\n",
        "}\n",
        "\n",
        "total_palavras = {\"positivo\": 0, \"negativo\": 0}\n",
        "\n",
        "for texto, label in zip(textos_limpos, labels):\n",
        "    for palavra in texto:\n",
        "        contagens[label][palavra] += 1\n",
        "        total_palavras[label] += 1\n",
        "\n",
        "print(\"\\nContagens por classe:\")\n",
        "print(\"positivo => \", dict(contagens[\"positivo\"]))\n",
        "print(\"negativo => \", dict(contagens[\"negativo\"]))"
      ]
    },
    {
      "cell_type": "code",
      "execution_count": 15,
      "metadata": {
        "colab": {
          "base_uri": "https://localhost:8080/"
        },
        "id": "r_7zvtwKWFx1",
        "outputId": "3469d3c8-0148-405e-d900-278129ae139f"
      },
      "outputs": [
        {
          "output_type": "stream",
          "name": "stdout",
          "text": [
            "\n",
            "Frase de teste: Este produto deixa-me feliz\n",
            "Classificação prevista: positivo\n"
          ]
        }
      ],
      "source": [
        "# Passo 5: Definir a função de predição com Naive Bayes + Laplace\n",
        "def prever(texto_novo):\n",
        "    texto_proc = limpar_texto(texto_novo)\n",
        "    vocab_size = len(vocabulario)\n",
        "    probs = {}\n",
        "\n",
        "    for classe in [\"positivo\", \"negativo\"]:\n",
        "        probs[classe] = math.log(0.5)\n",
        "\n",
        "        for palavra in texto_proc:\n",
        "            contagem = contagens[classe][palavra]\n",
        "            prob_palavra = (contagem + 1) / (total_palavras[classe] + vocab_size)\n",
        "            probs[classe] += math.log(prob_palavra)\n",
        "\n",
        "    #print(\"Probabilidades:\", probs) #Descomentar se quizer ver as probalidades\n",
        "    return max(probs, key=probs.get)\n",
        "\n",
        "# Testar com uma frase nova\n",
        "frase_teste = \"Este produto deixa-me feliz\"\n",
        "#frase_teste = \"fiquei irritado com essa merda\"\n",
        "resultado = prever(frase_teste)\n",
        "print(\"\\nFrase de teste:\", frase_teste)\n",
        "print(\"Classificação prevista:\", resultado)"
      ]
    }
  ],
  "metadata": {
    "kernelspec": {
      "display_name": "Python 3",
      "language": "python",
      "name": "python3"
    },
    "language_info": {
      "codemirror_mode": {
        "name": "ipython",
        "version": 3
      },
      "file_extension": ".py",
      "mimetype": "text/x-python",
      "name": "python",
      "nbconvert_exporter": "python",
      "pygments_lexer": "ipython3",
      "version": "3.8.0"
    },
    "colab": {
      "provenance": [],
      "toc_visible": true
    }
  },
  "nbformat": 4,
  "nbformat_minor": 0
}