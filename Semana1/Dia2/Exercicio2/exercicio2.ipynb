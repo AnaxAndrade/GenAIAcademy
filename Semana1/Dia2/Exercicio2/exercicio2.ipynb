{
  "cells": [
    {
      "cell_type": "code",
      "execution_count": null,
      "id": "b9119aca-759d-4446-a6ba-7c6b66759597",
      "metadata": {
        "id": "b9119aca-759d-4446-a6ba-7c6b66759597"
      },
      "outputs": [],
      "source": [
        "# Dataset: Advertising\n",
        "# Link do dataset: https://raw.githubusercontent.com/nguyen-toan/ISLR/master/dataset/Advertising.csv\n",
        "import numpy as np\n",
        "import pandas as pd\n",
        "import matplotlib.pyplot as plt\n",
        "\n",
        "!wget https://raw.githubusercontent.com/nguyen-toan/ISLR/master/dataset/Advertising.csv"
      ]
    },
    {
      "cell_type": "code",
      "execution_count": 51,
      "id": "21e9e73d-f301-4595-9a53-7c6a25ee97df",
      "metadata": {
        "id": "21e9e73d-f301-4595-9a53-7c6a25ee97df"
      },
      "outputs": [],
      "source": [
        "# 1. Carregar dataset Advertising\n",
        "data = pd.read_csv(\"Advertising.csv\")\n",
        "# Remover possíveis colunas desnecessárias e preparar arrays numpy\n",
        "X = data['TV'].values  # investimento em TV\n",
        "y = data['Sales'].values  # vendas\n",
        "\n"
      ]
    },
    {
      "cell_type": "code",
      "execution_count": null,
      "id": "86a5e7b1-9fa0-4b8f-a726-34943c8badee",
      "metadata": {
        "id": "86a5e7b1-9fa0-4b8f-a726-34943c8badee"
      },
      "outputs": [],
      "source": [
        "# Opcional: Imprimir ver os dados\n",
        "print(X)\n",
        "print(y)"
      ]
    },
    {
      "cell_type": "code",
      "execution_count": null,
      "id": "25c9dc40-8d13-48fd-8b68-d8390f8c86f2",
      "metadata": {
        "id": "25c9dc40-8d13-48fd-8b68-d8390f8c86f2"
      },
      "outputs": [],
      "source": [
        "# Plotar os valores de X e y\n",
        "plt.scatter(X, y, color='blue', label='Dados reais')\n",
        "plt.title('Investimento em TV vs Vendas')\n",
        "plt.xlabel('Investimento em TV (milhares de dólares)')\n",
        "plt.ylabel('Vendas (milhares de unidades)')\n",
        "plt.legend()\n",
        "plt.show()"
      ]
    },
    {
      "cell_type": "code",
      "execution_count": 53,
      "id": "c7c962d4-e22c-4c5b-9cb4-eda433eb7d21",
      "metadata": {
        "id": "c7c962d4-e22c-4c5b-9cb4-eda433eb7d21"
      },
      "outputs": [],
      "source": [
        "\n",
        "# 2. Inicializar parâmetros\n",
        "beta0 = 0.0\n",
        "beta1 = 0.0\n",
        "alpha = 0.00001\n",
        "num_iters = 1000\n",
        "\n",
        "n = len(X)  # número de exemplos\n"
      ]
    },
    {
      "cell_type": "code",
      "execution_count": 54,
      "id": "2058cfa6-69b8-4b14-9f99-3778b8bf28de",
      "metadata": {
        "id": "2058cfa6-69b8-4b14-9f99-3778b8bf28de"
      },
      "outputs": [],
      "source": [
        "# Função auxiliar para calcular MSE (opcional, para monitorização)\n",
        "def mean_squared_error(y_true, y_pred):\n",
        "    return ((y_true - y_pred) ** 2).mean()"
      ]
    },
    {
      "cell_type": "code",
      "execution_count": null,
      "id": "4e1654ca-062e-4815-bf1e-dd9eef281182",
      "metadata": {
        "id": "4e1654ca-062e-4815-bf1e-dd9eef281182"
      },
      "outputs": [],
      "source": [
        "# 3. Loop de Gradiente Descendente\n",
        "for it in range(num_iters):\n",
        "    # calcular previsões lineares\n",
        "    y_pred = beta0 + beta1 * X\n",
        "    # calcular gradientes\n",
        "    grad0 = (2/n) * np.sum(y_pred - y)\n",
        "    grad1 = (2/n) * np.sum((y_pred - y) * X)\n",
        "    # atualizar parâmetros\n",
        "    beta0 -= alpha * grad0\n",
        "    beta1 -= alpha * grad1\n",
        "    # opcional: imprimir erro a cada 100 iterações\n",
        "    if it % 100 == 0:\n",
        "        mse = mean_squared_error(y, y_pred)\n",
        "        print(f\"Iteração {it}: MSE = {mse:.4f}\")\n"
      ]
    },
    {
      "cell_type": "code",
      "execution_count": null,
      "id": "dd55c6f0-3f8c-49f9-9ad8-cde9a2685520",
      "metadata": {
        "id": "dd55c6f0-3f8c-49f9-9ad8-cde9a2685520"
      },
      "outputs": [],
      "source": [
        "# 5. Após treino, mostrar parâmetros e um exemplo de previsão\n",
        "# Em casos reais deveríamos armazenar os parâmetros beta0 e beta1 para utilização futura\n",
        "print(f\"Parâmetros obtidos: beta0 = {beta0:.3f}, beta1 = {beta1:.3f}\")\n",
        "\n",
        "print(\"O valor de investimento é em milhares de dólares, ex: 150 = $150 mil dólares\")\n",
        "investimento_ex = float(input(\"Introduza um valor de investimento: \")) #investidos em TV\n",
        "pred_vendas = beta0 + beta1 * investimento_ex\n",
        "print(f\"Previsão de vendas para investimento TV = {investimento_ex}: {pred_vendas:.2f} (unidades em mil)\")"
      ]
    }
  ],
  "metadata": {
    "kernelspec": {
      "display_name": "Python 3 (ipykernel)",
      "language": "python",
      "name": "python3"
    },
    "language_info": {
      "codemirror_mode": {
        "name": "ipython",
        "version": 3
      },
      "file_extension": ".py",
      "mimetype": "text/x-python",
      "name": "python",
      "nbconvert_exporter": "python",
      "pygments_lexer": "ipython3",
      "version": "3.13.1"
    },
    "colab": {
      "provenance": []
    }
  },
  "nbformat": 4,
  "nbformat_minor": 5
}