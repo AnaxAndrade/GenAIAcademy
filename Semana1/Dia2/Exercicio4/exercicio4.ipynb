{
  "nbformat": 4,
  "nbformat_minor": 0,
  "metadata": {
    "colab": {
      "provenance": []
    },
    "kernelspec": {
      "name": "python3",
      "display_name": "Python 3"
    },
    "language_info": {
      "name": "python"
    }
  },
  "cells": [
    {
      "cell_type": "markdown",
      "source": [
        "# Telco Customer Churn\n",
        "\n",
        "* **Bas do Dataset:** https://www.kaggle.com/datasets/blastchar/telco-customer-churn\n",
        "* **Detalhes do Dataset:** https://community.ibm.com/community/user/businessanalytics/blogs/steven-macko/2019/07/11/telco-customer-churn-1113\n",
        "\n"
      ],
      "metadata": {
        "id": "A-aJBDfmDO7q"
      }
    }
  ]
}