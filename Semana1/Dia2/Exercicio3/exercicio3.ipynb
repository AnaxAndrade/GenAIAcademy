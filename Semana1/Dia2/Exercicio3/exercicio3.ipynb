{
  "nbformat": 4,
  "nbformat_minor": 0,
  "metadata": {
    "colab": {
      "provenance": []
    },
    "kernelspec": {
      "name": "python3",
      "display_name": "Python 3"
    },
    "language_info": {
      "name": "python"
    }
  },
  "cells": [
    {
      "cell_type": "markdown",
      "source": [
        "# Sobre o dataset\n",
        "Basicamente este dataset reúne informações sobre data\n",
        "Mais Informações sobre o Dataset:\n",
        "https://scikit-learn.org/stable/modules/generated/sklearn.datasets.load_breast_cancer.html\n"
      ],
      "metadata": {
        "id": "GJVstNt_2PVv"
      }
    },
    {
      "cell_type": "code",
      "execution_count": 1,
      "metadata": {
        "id": "4qMPRGFa02BY"
      },
      "outputs": [],
      "source": [
        "import numpy as np\n",
        "from sklearn.datasets import load_breast_cancer\n",
        "from sklearn.model_selection import train_test_split\n",
        "from tensorflow import keras\n",
        "from tensorflow.keras import layers\n"
      ]
    },
    {
      "cell_type": "code",
      "source": [
        "# 1.1 Carregar dataset de câncer de mama\n",
        "data = load_breast_cancer()\n",
        "X = data.data        # matriz de features (569 x 30)\n",
        "y = data.target      # 0 = maligno, 1 = benigno\n",
        "\n",
        "# 1.2 Dividir entre treino e teste\n",
        "X_train, X_test, y_train, y_test = train_test_split(X, y, test_size=0.3, random_state=42)"
      ],
      "metadata": {
        "id": "mcGS_V-N07IP"
      },
      "execution_count": 2,
      "outputs": []
    },
    {
      "cell_type": "code",
      "source": [
        "# Análise exploratória\n",
        "print(\"Nome das características\")\n",
        "print(data.feature_names)\n",
        "print(\"\\nSaídas\")\n",
        "print(y)\n",
        "print(\"Entradas\")\n",
        "print(X)"
      ],
      "metadata": {
        "id": "drckTFzI1jpS"
      },
      "execution_count": null,
      "outputs": []
    },
    {
      "cell_type": "code",
      "source": [
        "# Definir estrutura\n",
        "model = keras.Sequential([\n",
        "    layers.Dense(16, activation='relu', input_shape=(X_train.shape[1],)),  # 30 -> 16 neurónios\n",
        "    layers.Dense(1, activation='sigmoid')  # saída binária\n",
        "])"
      ],
      "metadata": {
        "id": "XWwSM6Q90-L8"
      },
      "execution_count": null,
      "outputs": []
    },
    {
      "cell_type": "code",
      "source": [
        "# 3. Compilar modelo com otimizador e função de perda adequados\n",
        "model.compile(optimizer='adam', loss='binary_crossentropy', metrics=['accuracy'])\n",
        "\n",
        "# 4. Treinar modelo por 20 épocas\n",
        "history = model.fit(X_train, y_train, epochs=20, batch_size=32, validation_split=0.2, verbose=0)\n"
      ],
      "metadata": {
        "id": "v_8gJf5c1XO-"
      },
      "execution_count": 12,
      "outputs": []
    },
    {
      "cell_type": "code",
      "source": [
        "# 5. Avaliar no conjunto de teste\n",
        "loss, accuracy = model.evaluate(X_test, y_test, verbose=0)\n",
        "print(f\"Acurácia em teste: {accuracy*100:.2f}%\")\n",
        "\n",
        "# (Opcional) Exibir algumas previsões vs. verdadeiros\n",
        "y_pred_prob = model.predict(X_test[:5])\n",
        "y_pred = (y_pred_prob >= 0.5).astype(int).reshape(-1)\n",
        "print(\"Previsto:\", y_pred, \"Real:\", y_test[:5])"
      ],
      "metadata": {
        "id": "rt2J6jxV1X49"
      },
      "execution_count": null,
      "outputs": []
    }
  ]
}