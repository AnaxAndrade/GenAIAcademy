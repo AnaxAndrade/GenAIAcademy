{
  "cells": [
    {
      "cell_type": "markdown",
      "metadata": {
        "id": "KMeJf4cLM3R_"
      },
      "source": [
        "# Exercício: Análise de Sentimento de Avaliações de Clientes\n",
        "* **Descrição:** Classificar reviews Olist em positivas/negativas para medir satisfação.\n",
        "Dataset: Brazilian E-Commerce Public Dataset (Kaggle) — tabela olist_order_reviews_dataset.csv\n",
        "* **Dataset:** Dataset público de e-commerce publicado pela empresa __olist.com__\n",
        "  * **Download:** https://www.kaggle.com/datasets/olistbr/brazilian-ecommerce"
      ]
    },
    {
      "cell_type": "markdown",
      "metadata": {
        "id": "sQGkCFovNzop"
      },
      "source": [
        "## Passo a passo\n",
        "\n",
        "1. Ler CSV; criar rótulo: positiva se review_score≥4, negativa se ≤2.\n",
        "2. Separar treino/teste 80 / 20.\n",
        "3. TfidfVectorizer(max_features=10 000, ngram_range=(1,2)) sobre review_comment_message.\n",
        "4. Treinar LogisticRegression(max_iter=1000).\n",
        "5. Avaliar precisão, recall, F1; inspecionar 5 erros mais graves.\n",
        "6. Gerar nuvem de palavras por classe para insights."
      ]
    },
    {
      "cell_type": "markdown",
      "metadata": {},
      "source": [
        "## Download do Dataset\n",
        "\n",
        "\n",
        "*   Do AWS: https://genaiacademy.s3.eu-west-3.amazonaws.com/datasets/olist/olist_order_reviews_dataset.csv\n",
        "*   Do Kaggle: https://www.kaggle.com/datasets/olistbr/brazilian-ecommerce\n",
        "* Arquivo: olist_order_reviews_dataset.csv\n"
      ]
    }
  ],
  "metadata": {
    "colab": {
      "provenance": []
    },
    "kernelspec": {
      "display_name": "Python 3",
      "name": "python3"
    },
    "language_info": {
      "name": "python"
    }
  },
  "nbformat": 4,
  "nbformat_minor": 0
}
