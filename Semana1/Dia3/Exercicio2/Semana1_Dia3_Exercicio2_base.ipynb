{
  "nbformat": 4,
  "nbformat_minor": 0,
  "metadata": {
    "colab": {
      "provenance": []
    },
    "kernelspec": {
      "name": "python3",
      "display_name": "Python 3"
    },
    "language_info": {
      "name": "python"
    }
  },
  "cells": [
    {
      "cell_type": "markdown",
      "source": [
        "# Exercício: Análise de Sentimento de Avaliações de Clientes\n",
        "* **Descrição:** Classificar reviews Olist em positivas/negativas para medir satisfação.\n",
        "Dataset: Brazilian E-Commerce Public Dataset (Kaggle) — tabela olist_order_reviews_dataset.csv\n",
        "* **Dataset:** Dataset público de e-commerce publicado pela empresa __olist.com__\n",
        "  * **Download:** https://www.kaggle.com/datasets/olistbr/brazilian-ecommerce"
      ],
      "metadata": {
        "id": "KMeJf4cLM3R_"
      }
    },
    {
      "cell_type": "markdown",
      "source": [
        "## Passo a passo\n",
        "\n",
        "1. Ler CSV; criar rótulo: positiva se review_score≥4, negativa se ≤2.\n",
        "2. Separar treino/teste 80 / 20.\n",
        "3. TfidfVectorizer(max_features=10 000, ngram_range=(1,2)) sobre review_comment_message.\n",
        "4. Treinar LogisticRegression(max_iter=1000).\n",
        "5. Avaliar precisão, recall, F1; inspecionar 5 erros mais graves.\n",
        "6. Gerar nuvem de palavras por classe para insights."
      ],
      "metadata": {
        "id": "sQGkCFovNzop"
      }
    }
  ]
}