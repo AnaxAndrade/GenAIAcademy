{
  "nbformat": 4,
  "nbformat_minor": 0,
  "metadata": {
    "colab": {
      "provenance": []
    },
    "kernelspec": {
      "name": "python3",
      "display_name": "Python 3"
    },
    "language_info": {
      "name": "python"
    }
  },
  "cells": [
    {
      "cell_type": "markdown",
      "source": [
        "# Alternativas\n",
        "## Classificação de perguntas do stackoverflow\n",
        "* **Base do Dataset:** https://www.kaggle.com/code/anantpandey29/stackoverflow-qa-classification-problem\n",
        "\n",
        "## Review de Filmes do IMDB\n",
        "* **Base do Dataset:** https://www.kaggle.com/datasets/pawankumargunjan/imdb-review\n",
        "\n",
        "# Objetivos\n",
        "1. Escolher um dos datasets\n",
        "2. Entender os dados que possuem\n",
        "3. Fazer um levantamento de que tipo de tipos de tarefas de ML podem ser feitas no Dataset\n",
        "4. Fazer Data exploration e visualization básicos\n",
        "5. Treinar um ou mais modelos para as tarefas propostas\n",
        "\n",
        "# Questionário\n",
        "### Qual dataset escolheste?\n",
        "**R:**\n",
        "\n",
        "### Que tipos de insights podemos tentar tirar desses dados?..Qual tarefa de ML?\n",
        "**R:**\n",
        "\n",
        "### Que tipos de visualizações, agregações ou análises iniciais podem ser feitas?\n",
        "**R:**\n",
        "\n",
        "### Qual ou quais modelos ou algorítmos de ML acreditas que podem ser usadas?\n",
        "**R:**"
      ],
      "metadata": {
        "id": "A-aJBDfmDO7q"
      }
    }
  ]
}