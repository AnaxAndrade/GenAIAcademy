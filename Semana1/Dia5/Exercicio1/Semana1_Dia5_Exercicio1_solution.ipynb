{
  "nbformat": 4,
  "nbformat_minor": 0,
  "metadata": {
    "colab": {
      "provenance": []
    },
    "kernelspec": {
      "name": "python3",
      "display_name": "Python 3"
    },
    "language_info": {
      "name": "python"
    }
  },
  "cells": [
    {
      "cell_type": "markdown",
      "source": [
        "# Exercício: Transformers: Arquitetura e Prática com APIs\n",
        "* **Descrição:** utilizar um modelo Transformer pré-treinado (por exemplo, BERT) para realizar Reconhecimento de Entidades Nomeadas (NER) em textos. Sem necessidade de treino, farão inferência através de uma API ou pipeline pronta, identificando automaticamente pessoas, organizações, locais em uma frase.\n",
        "* **Dataset:** Frases que contenham entidades (pessoas, organizações em locais)"
      ],
      "metadata": {
        "id": "6qU2gtN12QkG"
      }
    },
    {
      "cell_type": "code",
      "source": [
        "#!pip install transformers\n",
        "from transformers import pipeline\n",
        "ner = pipeline(\"ner\", grouped_entities=True)"
      ],
      "metadata": {
        "id": "_h8cWlq22zcx"
      },
      "execution_count": null,
      "outputs": []
    },
    {
      "cell_type": "code",
      "source": [
        "# 2. Função de extração\n",
        "def extract(texto):\n",
        "  # 2.1 Executar NER\n",
        "  entidades = ner(texto)\n",
        "\n",
        "  # 2.2. Exibir resultados de forma legível\n",
        "  for ent in entidades:\n",
        "      entidade = ent['word']\n",
        "      tipo = ent['entity_group']\n",
        "      score = ent['score']\n",
        "      print(f\"Entidade: {entidade}  -> Tipo: {tipo} (confiança {score:.2f})\")"
      ],
      "metadata": {
        "id": "6ixs1l6P20df"
      },
      "execution_count": null,
      "outputs": []
    },
    {
      "cell_type": "code",
      "source": [
        "# 3. Texto de exemplo para NER\n",
        "texto = \"Barack Obama was born in the United States. Apple Inc. is headquartered in Cupertino.\"\n",
        "print(\"Texto de entrada:\", texto)\n",
        "extract(texto)"
      ],
      "metadata": {
        "id": "TpghrBTh4RBk"
      },
      "execution_count": null,
      "outputs": []
    },
    {
      "cell_type": "code",
      "source": [
        "texto2 = input(\"Digite o texto a ser analisado: \")\n",
        "extract(texto2)\n"
      ],
      "metadata": {
        "id": "CwXfpmJw4YJy"
      },
      "execution_count": null,
      "outputs": []
    }
  ]
}