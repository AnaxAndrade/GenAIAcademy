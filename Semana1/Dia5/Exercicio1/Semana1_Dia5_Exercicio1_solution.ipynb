{
  "cells": [
    {
      "cell_type": "markdown",
      "metadata": {
        "id": "6qU2gtN12QkG"
      },
      "source": [
        "# Exercício: Transformers: Arquitetura e Prática com APIs\n",
        "* **Descrição:** utilizar um modelo Transformer pré-treinado (por exemplo, BERT) para realizar Reconhecimento de Entidades Nomeadas (NER) em textos. Sem necessidade de treino, farão inferência através de uma API ou pipeline pronta, identificando automaticamente pessoas, organizações, locais em uma frase.\n",
        "* **Dataset:** Frases que contenham entidades (pessoas, organizações em locais)"
      ]
    },
    {
      "cell_type": "code",
      "execution_count": null,
      "metadata": {
        "id": "_h8cWlq22zcx"
      },
      "outputs": [],
      "source": [
        "#!pip install transformers\n",
        "from transformers import pipeline\n",
        "ner = pipeline(\"ner\", grouped_entities=True)"
      ]
    },
    {
      "cell_type": "code",
      "execution_count": null,
      "metadata": {
        "id": "6ixs1l6P20df"
      },
      "outputs": [],
      "source": [
        "# 2. Função de extração\n",
        "def extract(texto):\n",
        "  # 2.1 Executar NER\n",
        "  entidades = ner(texto)\n",
        "\n",
        "  # 2.2. Exibir resultados de forma legível\n",
        "  for ent in entidades:\n",
        "      entidade = ent['word']\n",
        "      tipo = ent['entity_group']\n",
        "      score = ent['score']\n",
        "      print(f\"Entidade: {entidade}  -> Tipo: {tipo} (confiança {score:.2f})\")"
      ]
    },
    {
      "cell_type": "code",
      "execution_count": null,
      "metadata": {
        "id": "TpghrBTh4RBk"
      },
      "outputs": [],
      "source": [
        "# 3. Texto de exemplo para NER\n",
        "texto = \"Barack Obama was born in the United States. Apple Inc. is headquartered in Cupertino.\"\n",
        "print(\"Texto de entrada:\", texto)\n",
        "extract(texto)"
      ]
    },
    {
      "cell_type": "code",
      "execution_count": null,
      "metadata": {
        "id": "CwXfpmJw4YJy"
      },
      "outputs": [],
      "source": [
        "texto2 = input(\"Digite o texto a ser analisado: \")\n",
        "extract(texto2)\n"
      ]
    }
  ],
  "metadata": {
    "colab": {
      "provenance": []
    },
    "kernelspec": {
      "display_name": "Python 3",
      "name": "python3"
    },
    "language_info": {
      "name": "python"
    }
  },
  "nbformat": 4,
  "nbformat_minor": 0
}
