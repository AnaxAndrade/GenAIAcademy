{
  "cells": [
    {
      "cell_type": "markdown",
      "metadata": {
        "id": "6qU2gtN12QkG"
      },
      "source": [
        "# Exercício: Transformers: Arquitetura e Prática com APIs\n",
        "* **Descrição:** utilizar um modelo Transformer pré-treinado (por exemplo, BERT) para realizar Reconhecimento de Entidades Nomeadas (NER) em textos. Sem necessidade de treino, farão inferência através de uma API ou pipeline pronta, identificando automaticamente pessoas, organizações, locais em uma frase.\n",
        "* **Dataset:** Frases que contenham entidades (pessoas, organizações em locais)"
      ]
    }
  ],
  "metadata": {
    "colab": {
      "provenance": []
    },
    "kernelspec": {
      "display_name": "Python 3",
      "name": "python3"
    },
    "language_info": {
      "name": "python"
    }
  },
  "nbformat": 4,
  "nbformat_minor": 0
}
