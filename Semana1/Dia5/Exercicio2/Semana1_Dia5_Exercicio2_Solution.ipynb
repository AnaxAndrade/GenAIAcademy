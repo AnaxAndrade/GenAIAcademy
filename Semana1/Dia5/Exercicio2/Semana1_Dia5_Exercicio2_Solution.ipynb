{
  "cells": [
    {
      "cell_type": "markdown",
      "metadata": {
        "id": "6qU2gtN12QkG"
      },
      "source": [
        "# Exercício: Sumarização de Texto com API de Transformer\n",
        "* **Descrição:** Utilizar uma API de modelo generativo para resumir automaticamente um texto longo em um parágrafo curto, destacando as informações principais\n",
        "* **Dataset:** Frases mais longas (50 palavras ou mais)"
      ]
    },
    {
      "cell_type": "markdown",
      "metadata": {
        "id": "v2KaaLA5BV_e"
      },
      "source": [
        "## Passo a passo\n",
        "1. Definir o texto inicial\n",
        "2. Escolher o modelo (pesquisar modelos disponíveis para a tarefa específica - Summarization)\n",
        "3. Carregar moedelo com pipeline API\n",
        "4. Implementar a sumarização\n",
        "5. Mostrar output\n",
        "5.1 O texto sumarizado\n",
        "5.2 Comparação da contagem de palavras de entrada vs de saída"
      ]
    },
    {
      "cell_type": "code",
      "execution_count": 1,
      "metadata": {
        "colab": {
          "base_uri": "https://localhost:8080/"
        },
        "id": "a0Lh9Nz6BV_e",
        "outputId": "f5cf6353-f0a2-4176-d300-399ce43f13ee"
      },
      "outputs": [
        {
          "output_type": "stream",
          "name": "stdout",
          "text": [
            "Comprimento do texto original (palavras): 79\n"
          ]
        }
      ],
      "source": [
        "from transformers import pipeline\n",
        "\n",
        "# Texto original para resumir (pode ser um parágrafo de Wikipedia ou notícia)\n",
        "artigo = \"\"\"Artificial intelligence (AI) is intelligence demonstrated by machines,\n",
        "unlike the natural intelligence displayed by humans and animals. AI research has been defined\n",
        "as the field of study of intelligent agents: any system that perceives its environment and takes\n",
        "actions that maximize its chance of achieving its goals. The term \"artificial intelligence\" was\n",
        "coined in 1956. AI applications include advanced web search engines, recommendation systems,\n",
        "understanding human speech, self-driving cars, and competing at the highest level in strategic\n",
        "game systems.\"\"\""
      ]
    },
    {
      "cell_type": "code",
      "execution_count": 3,
      "metadata": {
        "colab": {
          "base_uri": "https://localhost:8080/"
        },
        "id": "P9KtiSGTBV_e",
        "outputId": "667c2fca-8256-40ae-92df-24eda54410c9"
      },
      "outputs": [
        {
          "output_type": "stream",
          "name": "stderr",
          "text": [
            "Device set to use cpu\n"
          ]
        }
      ],
      "source": [
        "# Inicializar pipeline de sumarização com modelo DistilBART treinado em CNN/DailyMail\n",
        "summarizer = pipeline(\"summarization\", model=\"sshleifer/distilbart-cnn-12-6\")\n",
        "\n",
        "# Gerar resumo\n",
        "summary = summarizer(artigo, max_length=60, min_length=30, do_sample=False)\n",
        "resumo_texto = summary[0]['summary_text']\n"
      ]
    },
    {
      "cell_type": "code",
      "execution_count": 8,
      "metadata": {
        "colab": {
          "base_uri": "https://localhost:8080/"
        },
        "id": "il3gPyoYBV_e",
        "outputId": "492b8433-45fe-4060-b1a6-916f6fe9d2e7"
      },
      "outputs": [
        {
          "output_type": "stream",
          "name": "stdout",
          "text": [
            "\n",
            "### Texto Inicial ###\n",
            "Artificial intelligence (AI) is intelligence demonstrated by machines,\n",
            "unlike the natural intelligence displayed by humans and animals. AI research has been defined\n",
            "as the field of study of intelligent agents: any system that perceives its environment and takes\n",
            "actions that maximize its chance of achieving its goals. The term \"artificial intelligence\" was\n",
            "coined in 1956. AI applications include advanced web search engines, recommendation systems,\n",
            "understanding human speech, self-driving cars, and competing at the highest level in strategic\n",
            "game systems.\n",
            "\n",
            "### Resumo gerado ###\n",
            " Artificial intelligence (AI) is intelligence demonstrated by machines, unlike the natural intelligence displayed by humans and animals . AI applications include advanced web search engines, recommendation systems, understanding human speech, self-driving cars, and competing at the highest level in strategic game systems .\n",
            "\n",
            "Comprimento do original (palavras): 79\n",
            "Comprimento do resumo (palavras): 43\n"
          ]
        }
      ],
      "source": [
        "print(\"\\n### Texto Inicial ###\")\n",
        "print(artigo)\n",
        "print(\"\\n### Resumo gerado ###\")\n",
        "print(resumo_texto)\n",
        "print(\"\\nComprimento do original (palavras):\", len(artigo.split()))\n",
        "print(f\"Comprimento do resumo (palavras): {len(resumo_texto.split())}\")"
      ]
    }
  ],
  "metadata": {
    "colab": {
      "provenance": []
    },
    "kernelspec": {
      "display_name": "Python 3",
      "name": "python3"
    },
    "language_info": {
      "name": "python",
      "version": "3.12.8"
    }
  },
  "nbformat": 4,
  "nbformat_minor": 0
}