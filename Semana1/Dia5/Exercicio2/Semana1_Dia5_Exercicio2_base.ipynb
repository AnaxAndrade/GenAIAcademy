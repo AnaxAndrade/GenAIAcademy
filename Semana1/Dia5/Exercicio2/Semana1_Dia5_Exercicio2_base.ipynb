{
  "cells": [
    {
      "cell_type": "markdown",
      "metadata": {
        "id": "6qU2gtN12QkG"
      },
      "source": [
        "# Exercício: Sumarização de Texto com API de Transformer\n",
        "* **Descrição:** Utilizar uma API de modelo generativo para resumir automaticamente um texto longo em um parágrafo curto, destacando as informações principais\n",
        "* **Dataset:** Frases mais longas (50 palavras ou mais)"
      ]
    },
    {
      "cell_type": "markdown",
      "metadata": {},
      "source": [
        "## Passo a passo\n",
        "1. Definir o texto inicial\n",
        "2. Escolher o modelo (pesquisar modelos disponíveis para a tarefa específica - Summarization)\n",
        "3. Carregar moedelo com pipeline API\n",
        "4. Implementar a sumarização\n",
        "5. Mostrar output\n",
        "5.1 O texto sumarizado\n",
        "5.2 Comparação da contagem de palavras de entrada vs de saída"
      ]
    },
    {
      "cell_type": "code",
      "execution_count": null,
      "metadata": {},
      "outputs": [],
      "source": [
        "from transformers import pipeline\n",
        "\n",
        "# Ex: Texto original para resumir (pode ser um parágrafo de Wikipedia ou notícia)\n",
        "artigo = \"\"\"Artificial intelligence (AI) is intelligence demonstrated by machines,\n",
        "unlike the natural intelligence displayed by humans and animals. AI research has been defined\n",
        "as the field of study of intelligent agents: any system that perceives its environment and takes\n",
        "actions that maximize its chance of achieving its goals. The term \"artificial intelligence\" was\n",
        "coined in 1956. AI applications include advanced web search engines, recommendation systems,\n",
        "understanding human speech, self-driving cars, and competing at the highest level in strategic\n",
        "game systems.\"\"\""
      ]
    }
  ],
  "metadata": {
    "colab": {
      "provenance": []
    },
    "kernelspec": {
      "display_name": "Python 3",
      "name": "python3"
    },
    "language_info": {
      "name": "python",
      "version": "3.12.8"
    }
  },
  "nbformat": 4,
  "nbformat_minor": 0
}
