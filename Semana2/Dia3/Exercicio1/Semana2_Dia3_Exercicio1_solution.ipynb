{
 "cells": [
  {
   "cell_type": "markdown",
   "id": "3d9995f8",
   "metadata": {},
   "source": [
    "# FAQ para Suporte Interno FAISS, LangChain e Ollama (llama3.2)\n",
    "* **Descrição:** Criar um script base em Python, capaz de ler o arquivo com perguntas e respostas sobre a empresa, indexar as informações no FAISS DB, fazer Q&A com o ollama, usando LangChain para orquestrar tudo\n",
    "* **Dataset:** company-info.json incluído no projeto"
   ]
  },
  {
   "cell_type": "markdown",
   "id": "3f129db9",
   "metadata": {},
   "source": [
    "## Passo a passo\n",
    "1. Puxar um modelo do llama usando ollama (ex: llama3.2)\n",
    "2. Servir localmente o modelo usando\n",
    "```bash\n",
    "    ollama serve\n",
    "```\n",
    "3. Carregar as perguntas e respostas do JSON\n",
    "4. Indexar no FAISS a resposta como conteúdo e a pergunta \n",
    "5. Criar as peças para o chain (embeding, retriever)\n",
    "6. Montar o chain\n",
    "7. Executar pesquisas"
   ]
  },
  {
   "cell_type": "code",
   "execution_count": 1,
   "id": "bc9b3c4b",
   "metadata": {},
   "outputs": [],
   "source": [
    "# Importar dependências\n",
    "import pandas as pd\n",
    "import json\n",
    "from langchain_community.llms import Ollama          # LLM local\n",
    "from langchain_community.embeddings import OllamaEmbeddings\n",
    "from langchain.vectorstores import FAISS\n",
    "from langchain.docstore.document import Document\n",
    "from langchain.chains import RetrievalQA\n",
    "from langchain.prompts import PromptTemplate"
   ]
  },
  {
   "cell_type": "code",
   "execution_count": 2,
   "id": "f8011613",
   "metadata": {},
   "outputs": [
    {
     "name": "stdout",
     "output_type": "stream",
     "text": [
      "Carregados 9 documentos\n"
     ]
    }
   ],
   "source": [
    "# 1. Carregar os dados do json\n",
    "with open('company-info.json', 'r') as file:\n",
    "    data = json.load(file)\n",
    "    \n",
    "# Converter os dados em Documents para indexação\n",
    "documents = []\n",
    "for item in data:\n",
    "    # Usamos a resposta como conteúdo e a pergunta como metadados\n",
    "    doc = Document(\n",
    "        page_content=item['answer'],\n",
    "        metadata={'question': item['question']}\n",
    "    )\n",
    "    documents.append(doc)\n",
    "\n",
    "print(f\"Carregados {len(documents)} documentos\")"
   ]
  },
  {
   "cell_type": "code",
   "execution_count": 3,
   "id": "e528c2ea",
   "metadata": {},
   "outputs": [
    {
     "name": "stdout",
     "output_type": "stream",
     "text": [
      "Embeddings configurado com modelo llama3.2\n"
     ]
    },
    {
     "name": "stderr",
     "output_type": "stream",
     "text": [
      "/var/folders/f0/yy6p01sd1x3fnhkmkt48l63c0000gn/T/ipykernel_74634/2971773730.py:2: LangChainDeprecationWarning: The class `OllamaEmbeddings` was deprecated in LangChain 0.3.1 and will be removed in 1.0.0. An updated version of the class exists in the :class:`~langchain-ollama package and should be used instead. To use it run `pip install -U :class:`~langchain-ollama` and import as `from :class:`~langchain_ollama import OllamaEmbeddings``.\n",
      "  embeddings = OllamaEmbeddings(model=\"llama3.2\")\n"
     ]
    }
   ],
   "source": [
    "# 2. Criar OllamaEmbeddings com o modelo que vai usar (vai usar localmente)\n",
    "embeddings = OllamaEmbeddings(model=\"llama3.2\")\n",
    "print(\"Embeddings configurado com modelo llama3.2\")"
   ]
  },
  {
   "cell_type": "code",
   "execution_count": 4,
   "id": "bc474846",
   "metadata": {},
   "outputs": [
    {
     "name": "stdout",
     "output_type": "stream",
     "text": [
      "Documentos indexados com sucesso no FAISS\n"
     ]
    }
   ],
   "source": [
    "# 3. Indexar dados com FAISS\n",
    "vectorstore = FAISS.from_documents(documents, embeddings)\n",
    "print(\"Documentos indexados com sucesso no FAISS\")"
   ]
  },
  {
   "cell_type": "code",
   "execution_count": 5,
   "id": "2ef4920e",
   "metadata": {},
   "outputs": [
    {
     "name": "stdout",
     "output_type": "stream",
     "text": [
      "Retriever configurado\n"
     ]
    }
   ],
   "source": [
    "# 4. Definir retriever que vai puxar os dados\n",
    "retriever = vectorstore.as_retriever(\n",
    "    search_type=\"similarity\",\n",
    "    search_kwargs={\"k\": 3}  # Retorna os 3 documentos mais relevantes\n",
    ")\n",
    "print(\"Retriever configurado\")"
   ]
  },
  {
   "cell_type": "code",
   "execution_count": 9,
   "id": "77ae04aa",
   "metadata": {},
   "outputs": [
    {
     "name": "stdout",
     "output_type": "stream",
     "text": [
      "LLM e Chain configurados com sucesso\n"
     ]
    }
   ],
   "source": [
    "# 5. Configurar o LLM e Chain\n",
    "# Configurar o modelo Ollama local\n",
    "#llm = Ollama(model=\"llama3.2\")\n",
    "\n",
    "# Definir o template de prompt para o RAG\n",
    "prompt_template = \"\"\"\n",
    "Use the following context to answer the question at the end. If you don't know the answer, just say that you don't know, don't try to make up an answer.\n",
    "\n",
    "Context:\n",
    "{context}\n",
    "\n",
    "Question: {question}\n",
    "\"\"\"\n",
    "\n",
    "PROMPT = PromptTemplate(\n",
    "    template=prompt_template, \n",
    "    input_variables=[\"context\", \"question\"]\n",
    ")\n",
    "\n",
    "# Criar o chain de RAG\n",
    "qa_chain = RetrievalQA.from_chain_type(\n",
    "    llm=llm,\n",
    "    chain_type=\"stuff\",\n",
    "    retriever=retriever,\n",
    "    return_source_documents=True,\n",
    "    chain_type_kwargs={\"prompt\": PROMPT}\n",
    ")\n",
    "\n",
    "print(\"LLM e Chain configurados com sucesso\")"
   ]
  },
  {
   "cell_type": "code",
   "execution_count": 11,
   "id": "361f477c",
   "metadata": {},
   "outputs": [],
   "source": [
    "def ask(question):\n",
    "    # 6. Desenvolver a função de Q&A que usa o chain\n",
    "    print(f\"\\nPergunta: {question}\\n\")\n",
    "    \n",
    "    # Executa a consulta no chain\n",
    "    result = qa_chain({\"query\": question})\n",
    "    \n",
    "    # Mostrar a resposta\n",
    "    print(\"Resposta:\")\n",
    "    print(result[\"result\"])\n",
    "    \n",
    "    # Mostrar os documentos que foram usados para responder a pergunta\n",
    "    print(\"\\nDocumentos usados para a resposta:\")\n",
    "    for i, doc in enumerate(result[\"source_documents\"]):\n",
    "        print(f\"\\nDocumento {i+1}:\")\n",
    "        print(f\"Conteúdo: {doc.page_content}\")\n",
    "        print(f\"Pergunta original: {doc.metadata['question']}\")\n",
    "        \n",
    "    return result"
   ]
  },
  {
   "cell_type": "code",
   "execution_count": 12,
   "id": "2830b0da",
   "metadata": {
    "scrolled": true
   },
   "outputs": [
    {
     "name": "stdout",
     "output_type": "stream",
     "text": [
      "\n",
      "Pergunta: What services does Capgemini offer?\n",
      "\n",
      "Resposta:\n",
      "According to the context, Capgemini offers the following range of services:\n",
      "\n",
      "1. Cloud\n",
      "2. Customer first\n",
      "3. Cybersecurity\n",
      "4. Data and artificial intelligence\n",
      "5. Enterprise management\n",
      "6. Intelligent industry\n",
      "\n",
      "Note that these services may overlap or be subsets of each other, but they are listed as distinct offerings according to the context provided.\n",
      "\n",
      "Documentos usados para a resposta:\n",
      "\n",
      "Documento 1:\n",
      "Conteúdo: Capgemini offers a range of services including Cloud, Customer first, Cybersecurity, Data and artificial intelligence, Enterprise management, and Intelligent industry.\n",
      "Pergunta original: What specific service areas does Capgemini offer?\n",
      "\n",
      "Documento 2:\n",
      "Conteúdo: Capgemini is a global leader in partnering with companies to transform and manage their business by harnessing the power of technology. They leverage deep industry expertise and a command of fast-evolving fields like cloud, data, AI, connectivity, software, digital engineering, and platforms to address the entire breadth of business needs, from strategy and design to managing operations.\n",
      "Pergunta original: What is Capgemini?\n",
      "\n",
      "Documento 3:\n",
      "Conteúdo: Capgemini's services are underpinned by two essential technological pillars for digital transformation: data and cloud. They also maintain a strong focus on the fundamentals of cybersecurity and sustainable development.\n",
      "Pergunta original: What are the core technological pillars underpinning Capgemini's services?\n"
     ]
    },
    {
     "data": {
      "text/plain": [
       "{'query': 'What services does Capgemini offer?',\n",
       " 'result': 'According to the context, Capgemini offers the following range of services:\\n\\n1. Cloud\\n2. Customer first\\n3. Cybersecurity\\n4. Data and artificial intelligence\\n5. Enterprise management\\n6. Intelligent industry\\n\\nNote that these services may overlap or be subsets of each other, but they are listed as distinct offerings according to the context provided.',\n",
       " 'source_documents': [Document(id='a1196039-3df2-4636-ad83-11a12dccb361', metadata={'question': 'What specific service areas does Capgemini offer?'}, page_content='Capgemini offers a range of services including Cloud, Customer first, Cybersecurity, Data and artificial intelligence, Enterprise management, and Intelligent industry.'),\n",
       "  Document(id='099d8fae-456f-402f-ba44-0464e8e50c6c', metadata={'question': 'What is Capgemini?'}, page_content='Capgemini is a global leader in partnering with companies to transform and manage their business by harnessing the power of technology. They leverage deep industry expertise and a command of fast-evolving fields like cloud, data, AI, connectivity, software, digital engineering, and platforms to address the entire breadth of business needs, from strategy and design to managing operations.'),\n",
       "  Document(id='6dddb167-d621-493b-ac21-b1ab19190dfa', metadata={'question': \"What are the core technological pillars underpinning Capgemini's services?\"}, page_content=\"Capgemini's services are underpinned by two essential technological pillars for digital transformation: data and cloud. They also maintain a strong focus on the fundamentals of cybersecurity and sustainable development.\")]}"
      ]
     },
     "execution_count": 12,
     "metadata": {},
     "output_type": "execute_result"
    }
   ],
   "source": [
    "# Teste\n",
    "ask(\"What services does Capgemini offer?\")"
   ]
  },
  {
   "cell_type": "code",
   "execution_count": null,
   "id": "0b935c2a-3d47-48fb-a6b3-3ff6f156f012",
   "metadata": {},
   "outputs": [],
   "source": []
  }
 ],
 "metadata": {
  "kernelspec": {
   "display_name": "Python 3 (ipykernel)",
   "language": "python",
   "name": "python3"
  },
  "language_info": {
   "codemirror_mode": {
    "name": "ipython",
    "version": 3
   },
   "file_extension": ".py",
   "mimetype": "text/x-python",
   "name": "python",
   "nbconvert_exporter": "python",
   "pygments_lexer": "ipython3",
   "version": "3.13.1"
  }
 },
 "nbformat": 4,
 "nbformat_minor": 5
}
