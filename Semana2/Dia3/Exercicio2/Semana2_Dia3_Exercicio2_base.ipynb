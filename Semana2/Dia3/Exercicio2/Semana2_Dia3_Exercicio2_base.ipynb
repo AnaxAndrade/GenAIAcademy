{
 "cells": [
  {
   "cell_type": "markdown",
   "id": "3d9995f8",
   "metadata": {},
   "source": [
    "# Análise de sentimento e resposta a reviews de clientes\n",
    "* **Descrição:** Criar um script base em Python, capaz de ler o arquivo com reviews de clientes \n",
    "* **Dataset:** O arquivo de review de clientes olist https://genaiacademy.s3.eu-west-3.amazonaws.com/datasets/olist/olist_order_reviews_dataset.csv"
   ]
  },
  {
   "cell_type": "markdown",
   "id": "3f129db9",
   "metadata": {},
   "source": [
    "## Passo a passo\n",
    "1. Puxar um modelo do llama usando ollama (ex: llama3.2)\n",
    "2. Servir localmente o modelo usando\n",
    "```bash\n",
    "    ollama serve\n",
    "```\n",
    "3. Carregar os reviews de clientes\n",
    "4. Selecionar em 10 reviews aleatórios. Para cada um dos reviews:\n",
    "4.1 Se o sentimento for positivo, deixar um agradecimento\n",
    "4.2 Se o sentimento for negativo deixar uma resposta curta para a situação\n",
    "5. O output deverá ser como:\n",
    "```plaintext\n",
    "Review: <o review do cliente>\n",
    "Resposta: <a resposta do modelo>\n",
    "\n",
    "Review: <o review do cliente>\n",
    "Resposta: <a resposta do modelo>\n",
    "```"
   ]
  },
  {
   "cell_type": "code",
   "execution_count": null,
   "id": "bc9b3c4b",
   "metadata": {},
   "outputs": [],
   "source": [
    "# Importar dependências\n"
   ]
  },
  {
   "cell_type": "code",
   "execution_count": null,
   "id": "f8011613",
   "metadata": {},
   "outputs": [],
   "source": [
    "# TODO: 1. Carregar os dados de reviews\n",
    "\n",
    "# TODO: 2. Selecionar 10 reviews aleatórios"
   ]
  },
  {
   "cell_type": "code",
   "execution_count": null,
   "id": "77ae04aa",
   "metadata": {},
   "outputs": [],
   "source": [
    "# TODO: 3. Criar um prompt para o LLM\n",
    "\n",
    "# TODO: 4. Configurar o LLM"
   ]
  },
  {
   "cell_type": "code",
   "execution_count": null,
   "id": "361f477c",
   "metadata": {},
   "outputs": [],
   "source": [
    "# TODO: 5. Gerar a resposta do LLM"
   ]
  }
 ],
 "metadata": {
  "kernelspec": {
   "display_name": "Python 3",
   "language": "python",
   "name": "python3"
  },
  "language_info": {
   "name": "python",
   "version": "3.12.8"
  }
 },
 "nbformat": 4,
 "nbformat_minor": 5
}
