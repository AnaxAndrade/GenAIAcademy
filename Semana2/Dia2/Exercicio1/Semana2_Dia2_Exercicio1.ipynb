{
 "cells": [
  {
   "cell_type": "markdown",
   "id": "90287bee",
   "metadata": {},
   "source": [
    "# Geração de Mock-ups de Embalagem para Propostas Comerciais\n",
    "* **Descrição:** Criar imagens de produto 3D renderizado a partir de briefing textual para acelerar propostas de design.\n",
    "* **Dataset:** sem – usa modelo dall-e-3 ou SDXL pré-treinado\n",
    "Proposta (OpenAI Image API)"
   ]
  }
 ],
 "metadata": {
  "language_info": {
   "name": "python"
  }
 },
 "nbformat": 4,
 "nbformat_minor": 5
}
