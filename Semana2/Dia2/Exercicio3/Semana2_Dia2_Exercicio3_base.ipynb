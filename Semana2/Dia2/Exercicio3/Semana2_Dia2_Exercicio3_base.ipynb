{
 "cells": [
  {
   "cell_type": "markdown",
   "id": "8a41715f",
   "metadata": {},
   "source": [
    "# Personalizar Estilo de Marca com LoRA + Stable Diffusion\n",
    "* **Descrição:** Ajustar um modelo SD-1.5 com 20 imagens da marca para gerar criativos consistentes. Usar (runwayml/stable-diffusion-v1-5) como base e LoRA como abordagem\n",
    "* **Dataset:** 20 fotos oficiais da marca"
   ]
  },
  {
   "cell_type": "code",
   "execution_count": null,
   "id": "1b36550c",
   "metadata": {
    "vscode": {
     "languageId": "plaintext"
    }
   },
   "outputs": [],
   "source": [
    "#!pip install diffusers transformers peft accelerate\n",
    "from diffusers import StableDiffusionPipeline, DPMSolverMultistepScheduler\n",
    "from peft import LoraConfig, get_peft_model"
   ]
  },
  {
   "cell_type": "code",
   "execution_count": null,
   "id": "008d1465",
   "metadata": {
    "vscode": {
     "languageId": "plaintext"
    }
   },
   "outputs": [],
   "source": [
    "pipe = StableDiffusionPipeline.from_pretrained(\"runwayml/stable-diffusion-v1-5\")\n",
    "pipe.scheduler = DPMSolverMultistepScheduler.from_config(pipe.scheduler.config)\n",
    "\n",
    "lora_conf = LoraConfig(r=8,lora_alpha=16, target_modules=[\"to_q\",\"to_v\"])\n",
    "pipe.unet = get_peft_model(pipe.unet,lora_conf)"
   ]
  },
  {
   "cell_type": "code",
   "execution_count": null,
   "id": "f7bd6062",
   "metadata": {
    "vscode": {
     "languageId": "plaintext"
    }
   },
   "outputs": [],
   "source": [
    "# carregar 20 imagens com prompt da marca, usar DreamBooth/LoRA training util\n"
   ]
  }
 ],
 "metadata": {
  "language_info": {
   "name": "python"
  }
 },
 "nbformat": 4,
 "nbformat_minor": 5
}
