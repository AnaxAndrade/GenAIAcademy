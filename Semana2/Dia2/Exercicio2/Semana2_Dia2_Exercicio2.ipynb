{
 "cells": [
  {
   "cell_type": "markdown",
   "id": "8a41715f",
   "metadata": {},
   "source": [
    "# Catálogo Automático de Produtos com Texto-para-Imagem\n",
    "* **Descrição:** Gerar imagens faltantes para catálogo e-commerce combinando título e atributos. Usando a biblioteca **diffusers** da HuggingFace\n",
    "* **Dataset:** CSV com nome, cor, material de produtos (incluída na pasta do exercício)\n",
    "* AWS (Inglês): https://genaiacademy.s3.eu-west-3.amazonaws.com/produtos/catalogo-en.csv\n",
    "* AWS (Português): https://genaiacademy.s3.eu-west-3.amazonaws.com/produtos/catalogo.csv"
   ]
  },
  {
   "cell_type": "markdown",
   "id": "d7a4868c",
   "metadata": {},
   "source": [
    "from diffusers import StableDiffusionPipeline\n",
    "import pandas as pd\n",
    "\n",
    "pipe = StableDiffusionPipeline.from_pretrained(\"stabilityai/stable-diffusion-2-base\") # .to(\"cuda\") se tiver gpu\n",
    "\n"
   ]
  },
  {
   "cell_type": "code",
   "execution_count": null,
   "id": "1b36550c",
   "metadata": {
    "vscode": {
     "languageId": "plaintext"
    }
   },
   "outputs": [],
   "source": [
    "#Ler CSV com produtos\n",
    "produtos = #TODO"
   ]
  },
  {
   "cell_type": "code",
   "execution_count": null,
   "id": "008d1465",
   "metadata": {
    "vscode": {
     "languageId": "plaintext"
    }
   },
   "outputs": [],
   "source": [
    "# Para cada row (produto)\n",
    "    # Montar o prompt usando nome, cor e material\n",
    "    # Invocar o modelo\n",
    "    # Salvar e/ou mostrar a imagem (nome: [coluna id].png)"
   ]
  }
 ],
 "metadata": {
  "language_info": {
   "name": "python"
  }
 },
 "nbformat": 4,
 "nbformat_minor": 5
}
