{
 "cells": [
  {
   "cell_type": "markdown",
   "id": "aed35f7d",
   "metadata": {},
   "source": [
    "# Exercício: Gerar Logótipos Sintéticos com DCGAN\n",
    "* **Descrição:** Treina um DCGAN para criar protótipos de logótipos que ajudem equipas de marketing a testar identidades visuais sem designer humano.\n",
    "* **Dataset:** Conjunto de imagens de logos\n",
    "  * **Download:** https://www.kaggle.com/datasets/dimka11/lld-logo-files\n",
    "  *   Do AWS: https://genaiacademy.s3.eu-west-3.amazonaws.com/logo-files/logo-files.zip"
   ]
  },
  {
   "cell_type": "markdown",
   "id": "0a4544bb",
   "metadata": {},
   "source": [
    "## Passo a passo\n",
    "\n",
    "1. Carregar logos 32×32 em escalas [-1,1]\n",
    "2. Criar um modelo Gerador simples\n",
    "3. Criar um modelo Discriminador\n",
    "4. Ciclo treino simplificado\n",
    "5. Mostrar o resultado"
   ]
  },
  {
   "cell_type": "markdown",
   "id": "f1c0f9b0",
   "metadata": {},
   "source": [
    "## Download do Dataset\n",
    "\n",
    "\n",
    "*   Do Kaggle: https://www.kaggle.com/datasets/dimka11/lld-logo-files\n",
    "*   Do AWS: https://genaiacademy.s3.eu-west-3.amazonaws.com/logo-files/logo-files.zip"
   ]
  }
 ],
 "metadata": {
  "language_info": {
   "name": "python"
  }
 },
 "nbformat": 4,
 "nbformat_minor": 5
}
