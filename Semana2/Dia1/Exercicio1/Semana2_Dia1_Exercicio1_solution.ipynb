{
  "cells": [
    {
      "cell_type": "markdown",
      "id": "aed35f7d",
      "metadata": {
        "id": "aed35f7d"
      },
      "source": [
        "# Exercício: Gerar Logótipos Sintéticos com DCGAN\n",
        "* **Descrição:** Treina um DCGAN para criar protótipos de logótipos que ajudem equipas de marketing a testar identidades visuais sem designer humano.\n",
        "* **Dataset:** Conjunto de imagens de logos\n",
        "  * **Download:** https://www.kaggle.com/datasets/dimka11/lld-logo-files"
      ]
    },
    {
      "cell_type": "markdown",
      "id": "0a4544bb",
      "metadata": {
        "id": "0a4544bb"
      },
      "source": [
        "## Passo a passo\n",
        "\n",
        "1. Carregar logos 32×32 em escalas [-1,1]\n",
        "2. Criar um modelo Gerador simples\n",
        "3. Criar um modelo Discriminador\n",
        "4. Ciclo treino simplificado\n",
        "5. Mostrar o resultado"
      ]
    },
    {
      "cell_type": "markdown",
      "id": "f1c0f9b0",
      "metadata": {
        "id": "f1c0f9b0"
      },
      "source": [
        "## Download do Dataset\n",
        "\n",
        "\n",
        "*   Do Kaggle: https://www.kaggle.com/datasets/dimka11/lld-logo-files\n",
        "*   Do AWS:"
      ]
    },
    {
      "cell_type": "code",
      "source": [
        "!wget https://genaiacademy.s3.eu-west-3.amazonaws.com/logo-files/logo-files.zip\n",
        "!unzip logo-files.zip"
      ],
      "metadata": {
        "id": "IgB8AzEp5C6X"
      },
      "id": "IgB8AzEp5C6X",
      "execution_count": null,
      "outputs": []
    },
    {
      "cell_type": "code",
      "source": [
        "#!pip install tensorflow matplotlib\n",
        "import tensorflow as tf, matplotlib.pyplot as plt"
      ],
      "metadata": {
        "id": "--lm82Is4kZK"
      },
      "id": "--lm82Is4kZK",
      "execution_count": null,
      "outputs": []
    },
    {
      "cell_type": "code",
      "source": [
        "# 1. carregar logos 32×32 em escalas [-1,1]\n",
        "imgs = tf.data.Dataset.list_files('logos/*.png').map(\n",
        "    lambda f: (tf.image.convert_image_dtype(tf.image.resize(\n",
        "        tf.io.decode_png(tf.io.read_file(f)), (32,32)), tf.float32)*2)-1)\n",
        "batch = imgs.shuffle(1000).batch(128)"
      ],
      "metadata": {
        "id": "sP1QuU3T4qaB"
      },
      "id": "sP1QuU3T4qaB",
      "execution_count": null,
      "outputs": []
    },
    {
      "cell_type": "code",
      "source": [
        "# 2. Gerador simples\n",
        "def gerador():\n",
        "    modelo = tf.keras.Sequential([\n",
        "        tf.keras.layers.Dense(8*8*256, use_bias=False, input_shape=(100,)),\n",
        "        tf.keras.layers.Reshape((8,8,256)),\n",
        "        tf.keras.layers.Conv2DTranspose(128,4,2,'same',use_bias=False,activation='relu'),\n",
        "        tf.keras.layers.Conv2DTranspose(3,4,2,'same',use_bias=False,activation='tanh')\n",
        "    ])\n",
        "    return modelo"
      ],
      "metadata": {
        "id": "Sfp92oM14uvA"
      },
      "id": "Sfp92oM14uvA",
      "execution_count": null,
      "outputs": []
    },
    {
      "cell_type": "code",
      "source": [
        "# 3. Discriminador\n",
        "def discriminador():\n",
        "    m = tf.keras.Sequential([\n",
        "        tf.keras.layers.Conv2D(64,4,2,'same',input_shape=(32,32,3)),\n",
        "        tf.keras.layers.LeakyReLU(0.2),\n",
        "        tf.keras.layers.Flatten(),\n",
        "        tf.keras.layers.Dense(1, activation='sigmoid')\n",
        "    ])\n",
        "    return m"
      ],
      "metadata": {
        "id": "Ta52IcAu4v2g"
      },
      "id": "Ta52IcAu4v2g",
      "execution_count": null,
      "outputs": []
    },
    {
      "cell_type": "code",
      "source": [
        "gen, disc = gerador(), discriminador()\n",
        "gan = tf.keras.Sequential([gen, disc])\n",
        "disc.compile('adam','binary_crossentropy')\n",
        "disc.trainable = False\n",
        "gan.compile('adam','binary_crossentropy')\n",
        "\n",
        "# 4. ciclo treino simplificado\n",
        "for ep in range(30):\n",
        "    for real in batch:\n",
        "        z = tf.random.normal((real.shape[0],100))\n",
        "        fake = gen(z)\n",
        "        disc.trainable = True\n",
        "        disc.train_on_batch(tf.concat([real,fake],0),\n",
        "                            tf.concat([tf.ones(real.shape[0]),tf.zeros(real.shape[0])],0))\n",
        "        disc.trainable = False\n",
        "        gan.train_on_batch(z, tf.ones(real.shape[0]))\n",
        "    print(f'Época {ep+1} concluída')"
      ],
      "metadata": {
        "id": "Tgha9P1C40Zz"
      },
      "id": "Tgha9P1C40Zz",
      "execution_count": null,
      "outputs": []
    },
    {
      "cell_type": "code",
      "source": [
        "# 5. mostrar output\n",
        "plt.imshow((gen(tf.random.normal((1,100)))[0]+1)/2); plt.axis('off')"
      ],
      "metadata": {
        "id": "tVrEY2Ms4246"
      },
      "id": "tVrEY2Ms4246",
      "execution_count": null,
      "outputs": []
    }
  ],
  "metadata": {
    "language_info": {
      "name": "python"
    },
    "colab": {
      "provenance": []
    }
  },
  "nbformat": 4,
  "nbformat_minor": 5
}