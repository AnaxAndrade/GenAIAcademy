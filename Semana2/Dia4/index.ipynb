{
 "cells": [
  {
   "cell_type": "markdown",
   "id": "d17d8344",
   "metadata": {},
   "source": [
    "# Script para extrair texto dos conteúdos encontrados e indexar numa base de dados vectorial\n",
    "A sugestão é usar o cromadb (podem usar outro que acharem apropriado)\n",
    "\n",
    "## Passos\n",
    "1. Criar funções para extrair texto de cada tipo de conteúdo\n",
    "2. Para cada empresa abrir a pasta de input respetiva e extrair conteúdo de acordo com o tipo de documento\n",
    "3. Fazer Chunking (divisão do conteúdo)\n",
    "4. Fazer embed do conteúdo\n",
    "5. Indexar na base de dados vectorial"
   ]
  },
  {
   "cell_type": "code",
   "execution_count": null,
   "id": "1dfb074d",
   "metadata": {
    "vscode": {
     "languageId": "plaintext"
    }
   },
   "outputs": [],
   "source": [
    "# Função para texto dos PDF"
   ]
  },
  {
   "cell_type": "code",
   "execution_count": null,
   "id": "6b6ec397",
   "metadata": {
    "vscode": {
     "languageId": "plaintext"
    }
   },
   "outputs": [],
   "source": [
    "# Função para texto dos HML"
   ]
  },
  {
   "cell_type": "code",
   "execution_count": null,
   "id": "da673c61",
   "metadata": {
    "vscode": {
     "languageId": "plaintext"
    }
   },
   "outputs": [],
   "source": [
    "# Se tiver outros tipos de conteúdos também criar função para extrair texto"
   ]
  },
  {
   "cell_type": "code",
   "execution_count": null,
   "id": "717acd11",
   "metadata": {
    "vscode": {
     "languageId": "plaintext"
    }
   },
   "outputs": [],
   "source": [
    "2. Para cada empresa abrir a pasta de input respetiva e extrair conteúdo de acordo com o tipo de documento\n",
    "2.1 Fazer Chunking (divisão do conteúdo)\n",
    "2.2 Fazer embed do conteúdo\n",
    "2.3 Indexar na base de dados vectorial"
   ]
  }
 ],
 "metadata": {
  "language_info": {
   "name": "python"
  }
 },
 "nbformat": 4,
 "nbformat_minor": 5
}
