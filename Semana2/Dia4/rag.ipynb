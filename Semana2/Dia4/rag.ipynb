{
 "cells": [
  {
   "cell_type": "markdown",
   "id": "ca899fd7",
   "metadata": {},
   "source": [
    "# Script fazer o retrieve da informação e gerar uma resposta\n",
    "O objetivo agora é receber uma pergunta do utilizador, fazer uma query no nosso vector database e passar os top documents para o LLM gerar a resposta.\n",
    "A sugestão é usar o langchain e ollama com llama3.2 3B como LLM do nosso sistema. \n",
    "\n",
    "## Passos\n",
    "1. Fazer o embed da pergunta usando o mesmo modelo que foi usado para indexar o conteúdo\n",
    "2. Extrair os top documentos que podem ter a resposta (retrieve ao database)\n",
    "3. Formatar um prompt para o LLM com a pergunta e o contexto\n",
    "4. Mostrar a resposta do LLM"
   ]
  },
  {
   "cell_type": "code",
   "execution_count": null,
   "id": "f9b3970d",
   "metadata": {},
   "outputs": [],
   "source": [
    "# TODO: Imports"
   ]
  },
  {
   "cell_type": "code",
   "execution_count": null,
   "id": "f717cc1d",
   "metadata": {},
   "outputs": [],
   "source": [
    "# Aqui estamos recebendo uma question do utilizador\n",
    "question = input(\"Question: \")"
   ]
  },
  {
   "cell_type": "code",
   "execution_count": null,
   "id": "7d489a58",
   "metadata": {},
   "outputs": [],
   "source": [
    "# 1. Fazer o embed da pergunta usando o mesmo modelo que foi usado para indexar o conteúdo\n"
   ]
  },
  {
   "cell_type": "code",
   "execution_count": null,
   "id": "51f51a14",
   "metadata": {},
   "outputs": [],
   "source": [
    "#2. Extrair os top documentos que podem ter a resposta (retrieve ao database)\n"
   ]
  },
  {
   "cell_type": "code",
   "execution_count": null,
   "id": "cf402cbc",
   "metadata": {},
   "outputs": [],
   "source": [
    "# 3. Formatar um prompt para o LLM com a pergunta e o contexto"
   ]
  },
  {
   "cell_type": "code",
   "execution_count": null,
   "id": "54627590",
   "metadata": {},
   "outputs": [],
   "source": [
    "# 4. Mostrar a resposta do LLM"
   ]
  }
 ],
 "metadata": {
  "kernelspec": {
   "display_name": "Python 3",
   "language": "python",
   "name": "python3"
  },
  "language_info": {
   "name": "python",
   "version": "3.12.8"
  }
 },
 "nbformat": 4,
 "nbformat_minor": 5
}
